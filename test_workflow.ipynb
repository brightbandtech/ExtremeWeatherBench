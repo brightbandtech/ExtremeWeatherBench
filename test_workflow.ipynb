{
 "cells": [
  {
   "cell_type": "code",
   "execution_count": null,
   "metadata": {},
   "outputs": [],
   "source": [
    "# from src.ExtremeWeatherBench import events\n",
    "from src.ExtremeWeatherBench import config\n",
    "from src.ExtremeWeatherBench import events\n",
    "from src.ExtremeWeatherBench import evaluate\n",
    "\n",
    "import importlib\n",
    "importlib.reload(config)\n",
    "import xarray as xr"
   ]
  },
  {
   "cell_type": "code",
   "execution_count": 9,
   "metadata": {},
   "outputs": [],
   "source": [
    "event_list = [events.HeatWave,\n",
    "              events.Freeze]\n",
    "heatwave_configuration = config.Config(\n",
    "    event_types=event_list,\n",
    "    )\n",
    "\n",
    "default_forecast_config = config.ForecastSchemaConfig()\n"
   ]
  },
  {
   "cell_type": "code",
   "execution_count": 17,
   "metadata": {},
   "outputs": [
    {
     "data": {
      "text/plain": [
       "Config(output_path='assets/data/outputs/', forecast_path='assets/data/forecasts/', gridded_obs_path='gs://gcp-public-data-arco-era5/ar/1959-2022-full_37-1h-0p25deg-chunk-1.zarr-v2', point_obs_path=None, event_types=[<class 'src.ExtremeWeatherBench.events.HeatWave'>, <class 'src.ExtremeWeatherBench.events.Freeze'>], cache=False)"
      ]
     },
     "execution_count": 17,
     "metadata": {},
     "output_type": "execute_result"
    }
   ],
   "source": [
    "heatwave_configuration"
   ]
  },
  {
   "cell_type": "code",
   "execution_count": 18,
   "metadata": {},
   "outputs": [],
   "source": [
    "cases = evaluate.evaluate(eval_config=heatwave_configuration, forecast_schema_config=default_forecast_config, dry_run=True)"
   ]
  },
  {
   "cell_type": "code",
   "execution_count": 22,
   "metadata": {},
   "outputs": [
    {
     "data": {
      "text/plain": [
       "[src.ExtremeWeatherBench.metrics.MaximumMAE,\n",
       " src.ExtremeWeatherBench.metrics.DurationME,\n",
       " src.ExtremeWeatherBench.metrics.RegionalRMSE,\n",
       " src.ExtremeWeatherBench.metrics.MaxMinMAE,\n",
       " src.ExtremeWeatherBench.metrics.OnsetME]"
      ]
     },
     "execution_count": 22,
     "metadata": {},
     "output_type": "execute_result"
    }
   ],
   "source": [
    "cases.metrics"
   ]
  },
  {
   "cell_type": "code",
   "execution_count": null,
   "metadata": {},
   "outputs": [],
   "source": []
  }
 ],
 "metadata": {
  "kernelspec": {
   "display_name": "brightband",
   "language": "python",
   "name": "python3"
  },
  "language_info": {
   "codemirror_mode": {
    "name": "ipython",
    "version": 3
   },
   "file_extension": ".py",
   "mimetype": "text/x-python",
   "name": "python",
   "nbconvert_exporter": "python",
   "pygments_lexer": "ipython3",
   "version": "3.11.8"
  }
 },
 "nbformat": 4,
 "nbformat_minor": 2
}
