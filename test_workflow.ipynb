{
 "cells": [
  {
   "cell_type": "code",
   "execution_count": 1,
   "metadata": {},
   "outputs": [],
   "source": [
    "# from extremeweatherbench import events\n",
    "from extremeweatherbench import config\n",
    "from extremeweatherbench import events\n",
    "from extremeweatherbench import evaluate\n",
    "\n",
    "import importlib\n",
    "importlib.reload(config)\n",
    "import xarray as xr"
   ]
  },
  {
   "cell_type": "code",
   "execution_count": 2,
   "metadata": {},
   "outputs": [],
   "source": [
    "event_list = [events.HeatWave,\n",
    "              events.Freeze]\n",
    "heatwave_configuration = config.Config(\n",
    "    event_types=event_list,\n",
    "    )\n",
    "\n",
    "default_forecast_config = config.ForecastSchemaConfig()\n"
   ]
  },
  {
   "cell_type": "code",
   "execution_count": 3,
   "metadata": {},
   "outputs": [
    {
     "data": {
      "text/plain": [
       "Config(output_dir='assets/data/outputs/', forecast_dir='assets/data/forecasts/', gridded_obs_path='gs://gcp-public-data-arco-era5/ar/full_37-1h-0p25deg-chunk-1.zarr-v3', point_obs_path=None, event_types=[<class 'extremeweatherbench.events.HeatWave'>, <class 'extremeweatherbench.events.Freeze'>], cache=False)"
      ]
     },
     "execution_count": 3,
     "metadata": {},
     "output_type": "execute_result"
    }
   ],
   "source": [
    "heatwave_configuration"
   ]
  },
  {
   "cell_type": "code",
   "execution_count": 18,
   "metadata": {},
   "outputs": [],
   "source": [
    "cases = evaluate.evaluate(eval_config=heatwave_configuration, forecast_schema_config=default_forecast_config, dry_run=True)"
   ]
  },
  {
   "cell_type": "code",
   "execution_count": 22,
   "metadata": {},
   "outputs": [
    {
     "data": {
      "text/plain": [
       "[src.ExtremeWeatherBench.metrics.MaximumMAE,\n",
       " src.ExtremeWeatherBench.metrics.DurationME,\n",
       " src.ExtremeWeatherBench.metrics.RegionalRMSE,\n",
       " src.ExtremeWeatherBench.metrics.MaxMinMAE,\n",
       " src.ExtremeWeatherBench.metrics.OnsetME]"
      ]
     },
     "execution_count": 22,
     "metadata": {},
     "output_type": "execute_result"
    }
   ],
   "source": [
    "cases.metrics"
   ]
  },
  {
   "cell_type": "code",
   "execution_count": null,
   "metadata": {},
   "outputs": [],
   "source": []
  }
 ],
 "metadata": {
  "kernelspec": {
   "display_name": ".venv",
   "language": "python",
   "name": "python3"
  },
  "language_info": {
   "codemirror_mode": {
    "name": "ipython",
    "version": 3
   },
   "file_extension": ".py",
   "mimetype": "text/x-python",
   "name": "python",
   "nbconvert_exporter": "python",
   "pygments_lexer": "ipython3",
   "version": "3.12.7"
  }
 },
 "nbformat": 4,
 "nbformat_minor": 2
}
