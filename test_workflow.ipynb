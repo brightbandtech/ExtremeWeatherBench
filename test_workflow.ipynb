{
 "cells": [
  {
   "cell_type": "code",
   "execution_count": 1,
   "metadata": {},
   "outputs": [
    {
     "data": {
      "text/plain": [
       "<module 'src.ExtremeWeatherBench.config' from '/home/taylor/code/ExtremeWeatherBench/src/ExtremeWeatherBench/config.py'>"
      ]
     },
     "execution_count": 1,
     "metadata": {},
     "output_type": "execute_result"
    }
   ],
   "source": [
    "# from src.ExtremeWeatherBench import events\n",
    "from src.ExtremeWeatherBench import config\n",
    "from src.ExtremeWeatherBench import events\n",
    "import importlib\n",
    "importlib.reload(config)"
   ]
  },
  {
   "cell_type": "code",
   "execution_count": 2,
   "metadata": {},
   "outputs": [],
   "source": [
    "heatwave = events.HeatWave()\n",
    "heatwave_configuration = config.Config(\n",
    "    event_types=[heatwave],\n",
    "    )"
   ]
  },
  {
   "cell_type": "code",
   "execution_count": 10,
   "metadata": {},
   "outputs": [
    {
     "name": "stdout",
     "output_type": "stream",
     "text": [
      "1\n"
     ]
    }
   ],
   "source": [
    "for n in heatwave_configuration.event_types[0].case_df.itertuples():\n",
    "    print(n.Index)"
   ]
  },
  {
   "cell_type": "code",
   "execution_count": 24,
   "metadata": {},
   "outputs": [
    {
     "data": {
      "text/plain": [
       "[pandas.core.frame.Pandas]"
      ]
     },
     "execution_count": 24,
     "metadata": {},
     "output_type": "execute_result"
    }
   ],
   "source": [
    "import numpy as np\n",
    "\n",
    "# Convert the dataframe to a NumPy array\n",
    "[type(n) for n in heatwave_configuration.event_types[0].case_df.itertuples()]\n"
   ]
  }
 ],
 "metadata": {
  "kernelspec": {
   "display_name": "brightband",
   "language": "python",
   "name": "python3"
  },
  "language_info": {
   "codemirror_mode": {
    "name": "ipython",
    "version": 3
   },
   "file_extension": ".py",
   "mimetype": "text/x-python",
   "name": "python",
   "nbconvert_exporter": "python",
   "pygments_lexer": "ipython3",
   "version": "3.11.8"
  }
 },
 "nbformat": 4,
 "nbformat_minor": 2
}
