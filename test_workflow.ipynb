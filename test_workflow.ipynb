{
 "cells": [
  {
   "cell_type": "code",
   "execution_count": 6,
   "metadata": {},
   "outputs": [],
   "source": [
    "# from extremeweatherbench import events\n",
    "from extremeweatherbench import config\n",
    "from extremeweatherbench import events\n",
    "from extremeweatherbench import evaluate\n",
    "from extremeweatherbench import case\n",
    "import dacite\n",
    "import yaml\n",
    "import importlib\n",
    "importlib.reload(config)\n",
    "import xarray as xr"
   ]
  },
  {
   "cell_type": "code",
   "execution_count": 7,
   "metadata": {},
   "outputs": [],
   "source": [
    "path = '/home/taylor/code/ExtremeWeatherBench/assets/data/events.yaml'\n",
    "with open(path, \"r\") as file:\n",
    "    yaml_event_case = yaml.safe_load(file)[\"events\"]"
   ]
  },
  {
   "cell_type": "code",
   "execution_count": 11,
   "metadata": {},
   "outputs": [
    {
     "ename": "MissingValueError",
     "evalue": "missing value for field \"id\"",
     "output_type": "error",
     "traceback": [
      "\u001b[0;31m---------------------------------------------------------------------------\u001b[0m",
      "\u001b[0;31mDefaultValueNotFoundError\u001b[0m                 Traceback (most recent call last)",
      "File \u001b[0;32m~/code/ExtremeWeatherBench/.venv/lib/python3.12/site-packages/dacite/core.py:72\u001b[0m, in \u001b[0;36mfrom_dict\u001b[0;34m(data_class, data, config)\u001b[0m\n\u001b[1;32m     71\u001b[0m \u001b[38;5;28;01mtry\u001b[39;00m:\n\u001b[0;32m---> 72\u001b[0m     value \u001b[38;5;241m=\u001b[39m \u001b[43mget_default_value_for_field\u001b[49m\u001b[43m(\u001b[49m\u001b[43mfield\u001b[49m\u001b[43m,\u001b[49m\u001b[43m \u001b[49m\u001b[43mfield_type\u001b[49m\u001b[43m)\u001b[49m\n\u001b[1;32m     73\u001b[0m \u001b[38;5;28;01mexcept\u001b[39;00m DefaultValueNotFoundError:\n",
      "File \u001b[0;32m~/code/ExtremeWeatherBench/.venv/lib/python3.12/site-packages/dacite/dataclasses.py:21\u001b[0m, in \u001b[0;36mget_default_value_for_field\u001b[0;34m(field, type_)\u001b[0m\n\u001b[1;32m     20\u001b[0m     \u001b[38;5;28;01mreturn\u001b[39;00m \u001b[38;5;28;01mNone\u001b[39;00m\n\u001b[0;32m---> 21\u001b[0m \u001b[38;5;28;01mraise\u001b[39;00m DefaultValueNotFoundError()\n",
      "\u001b[0;31mDefaultValueNotFoundError\u001b[0m: ",
      "\nDuring handling of the above exception, another exception occurred:\n",
      "\u001b[0;31mMissingValueError\u001b[0m                         Traceback (most recent call last)",
      "Cell \u001b[0;32mIn[11], line 1\u001b[0m\n\u001b[0;32m----> 1\u001b[0m \u001b[43mdacite\u001b[49m\u001b[38;5;241;43m.\u001b[39;49m\u001b[43mfrom_dict\u001b[49m\u001b[43m(\u001b[49m\u001b[43mdata_class\u001b[49m\u001b[38;5;241;43m=\u001b[39;49m\u001b[43mcase\u001b[49m\u001b[38;5;241;43m.\u001b[39;49m\u001b[43mIndividualCase\u001b[49m\u001b[43m,\u001b[49m\u001b[43m \u001b[49m\u001b[43mdata\u001b[49m\u001b[38;5;241;43m=\u001b[39;49m\u001b[43myaml_event_case\u001b[49m\u001b[43m)\u001b[49m\n",
      "File \u001b[0;32m~/code/ExtremeWeatherBench/.venv/lib/python3.12/site-packages/dacite/core.py:76\u001b[0m, in \u001b[0;36mfrom_dict\u001b[0;34m(data_class, data, config)\u001b[0m\n\u001b[1;32m     74\u001b[0m         \u001b[38;5;28;01mif\u001b[39;00m \u001b[38;5;129;01mnot\u001b[39;00m field\u001b[38;5;241m.\u001b[39minit:\n\u001b[1;32m     75\u001b[0m             \u001b[38;5;28;01mcontinue\u001b[39;00m\n\u001b[0;32m---> 76\u001b[0m         \u001b[38;5;28;01mraise\u001b[39;00m MissingValueError(field\u001b[38;5;241m.\u001b[39mname)\n\u001b[1;32m     77\u001b[0m \u001b[38;5;28;01mif\u001b[39;00m field\u001b[38;5;241m.\u001b[39minit:\n\u001b[1;32m     78\u001b[0m     init_values[field\u001b[38;5;241m.\u001b[39mname] \u001b[38;5;241m=\u001b[39m value\n",
      "\u001b[0;31mMissingValueError\u001b[0m: missing value for field \"id\""
     ]
    }
   ],
   "source": [
    "dacite.from_dict(data_class=case.IndividualCase, data=yaml_event_case)"
   ]
  },
  {
   "cell_type": "code",
   "execution_count": 4,
   "metadata": {},
   "outputs": [
    {
     "ename": "TypeError",
     "evalue": "IndividualCase.__init__() missing 5 required positional arguments: 'id', 'start_date', 'end_date', 'location', and 'bounding_box_km'",
     "output_type": "error",
     "traceback": [
      "\u001b[0;31m---------------------------------------------------------------------------\u001b[0m",
      "\u001b[0;31mTypeError\u001b[0m                                 Traceback (most recent call last)",
      "Cell \u001b[0;32mIn[4], line 1\u001b[0m\n\u001b[0;32m----> 1\u001b[0m \u001b[38;5;28;43;01mcase\u001b[39;49;00m\u001b[38;5;241;43m.\u001b[39;49m\u001b[43mIndividualCase\u001b[49m\u001b[43m(\u001b[49m\u001b[43m)\u001b[49m\n",
      "\u001b[0;31mTypeError\u001b[0m: IndividualCase.__init__() missing 5 required positional arguments: 'id', 'start_date', 'end_date', 'location', and 'bounding_box_km'"
     ]
    }
   ],
   "source": [
    "case.IndividualCase()"
   ]
  },
  {
   "cell_type": "code",
   "execution_count": null,
   "metadata": {},
   "outputs": [],
   "source": [
    "@dataclasses.dataclass\n",
    "class Event:\n",
    "    \"\"\"A generic base class for extending with details for specific extreme weather\n",
    "    events.\n",
    "    \"\"\"\n",
    "\n",
    "    path: str\n",
    "    cases\n",
    "\n",
    "    def __post_init__(self):\n",
    "        self.cases = []\n",
    "        self.metrics = []\n",
    "    @classmethod\n",
    "    def from_yaml(cls, path):\n",
    "        with open(path, \"r\") as file:\n",
    "            yaml_event_case = yaml.safe_load(file)[\"events\"]\n",
    "            for individual_case in yaml_event_case:\n",
    "                for event_type in yaml_event_case[individual_case]:\n",
    "                    event_type[\"location\"] = case.Location(**event_type[\"location\"])\n",
    "        return dacite.from_dict(cls, yaml_event_case)"
   ]
  },
  {
   "cell_type": "code",
   "execution_count": 2,
   "metadata": {},
   "outputs": [],
   "source": [
    "event_list = [events.HeatWave,\n",
    "              events.Freeze]\n",
    "heatwave_configuration = config.Config(\n",
    "    event_types=event_list,\n",
    "    )\n",
    "\n",
    "default_forecast_config = config.ForecastSchemaConfig()\n"
   ]
  },
  {
   "cell_type": "code",
   "execution_count": 3,
   "metadata": {},
   "outputs": [
    {
     "data": {
      "text/plain": [
       "Config(output_dir='assets/data/outputs/', forecast_dir='assets/data/forecasts/', gridded_obs_path='gs://gcp-public-data-arco-era5/ar/full_37-1h-0p25deg-chunk-1.zarr-v3', point_obs_path=None, event_types=[<class 'extremeweatherbench.events.HeatWave'>, <class 'extremeweatherbench.events.Freeze'>], cache=False)"
      ]
     },
     "execution_count": 3,
     "metadata": {},
     "output_type": "execute_result"
    }
   ],
   "source": [
    "heatwave_configuration"
   ]
  },
  {
   "cell_type": "code",
   "execution_count": 6,
   "metadata": {},
   "outputs": [
    {
     "ename": "NameError",
     "evalue": "name 'location_center' is not defined",
     "output_type": "error",
     "traceback": [
      "\u001b[0;31m---------------------------------------------------------------------------\u001b[0m",
      "\u001b[0;31mNameError\u001b[0m                                 Traceback (most recent call last)",
      "Cell \u001b[0;32mIn[6], line 1\u001b[0m\n\u001b[0;32m----> 1\u001b[0m cases \u001b[38;5;241m=\u001b[39m \u001b[43mevaluate\u001b[49m\u001b[38;5;241;43m.\u001b[39;49m\u001b[43mevaluate\u001b[49m\u001b[43m(\u001b[49m\u001b[43meval_config\u001b[49m\u001b[38;5;241;43m=\u001b[39;49m\u001b[43mheatwave_configuration\u001b[49m\u001b[43m,\u001b[49m\u001b[43m \u001b[49m\u001b[43mforecast_schema_config\u001b[49m\u001b[38;5;241;43m=\u001b[39;49m\u001b[43mdefault_forecast_config\u001b[49m\u001b[43m)\u001b[49m\n",
      "File \u001b[0;32m~/code/ExtremeWeatherBench/src/extremeweatherbench/evaluate.py:51\u001b[0m, in \u001b[0;36mevaluate\u001b[0;34m(eval_config, forecast_schema_config, dry_run)\u001b[0m\n\u001b[1;32m     49\u001b[0m     \u001b[38;5;28;01mreturn\u001b[39;00m cases\n\u001b[1;32m     50\u001b[0m \u001b[38;5;28;01melse\u001b[39;00m:\n\u001b[0;32m---> 51\u001b[0m     results \u001b[38;5;241m=\u001b[39m \u001b[43m_evaluate_cases_loop\u001b[49m\u001b[43m(\u001b[49m\n\u001b[1;32m     52\u001b[0m \u001b[43m        \u001b[49m\u001b[43mcases\u001b[49m\u001b[43m,\u001b[49m\u001b[43m \u001b[49m\u001b[43mforecast_dataset\u001b[49m\u001b[43m,\u001b[49m\u001b[43m \u001b[49m\u001b[43mgridded_obs\u001b[49m\u001b[43m,\u001b[49m\u001b[43m \u001b[49m\u001b[43mpoint_obs\u001b[49m\n\u001b[1;32m     53\u001b[0m \u001b[43m    \u001b[49m\u001b[43m)\u001b[49m\n\u001b[1;32m     54\u001b[0m     \u001b[38;5;66;03m# NOTE(daniel): This is a bit of a hack, but it's a quick way to get the\u001b[39;00m\n\u001b[1;32m     55\u001b[0m     \u001b[38;5;66;03m# event name for the dictionary key; can do something later, since we\u001b[39;00m\n\u001b[1;32m     56\u001b[0m     \u001b[38;5;66;03m# probably don't want to make Event objects hashable.\u001b[39;00m\n\u001b[1;32m     57\u001b[0m     all_results[event\u001b[38;5;241m.\u001b[39m\u001b[38;5;18m__name__\u001b[39m] \u001b[38;5;241m=\u001b[39m results\n",
      "File \u001b[0;32m~/code/ExtremeWeatherBench/src/extremeweatherbench/evaluate.py:82\u001b[0m, in \u001b[0;36m_evaluate_cases_loop\u001b[0;34m(event, forecast_dataset, gridded_obs, point_obs)\u001b[0m\n\u001b[1;32m     79\u001b[0m results \u001b[38;5;241m=\u001b[39m []\n\u001b[1;32m     80\u001b[0m \u001b[38;5;28;01mfor\u001b[39;00m individual_case \u001b[38;5;129;01min\u001b[39;00m event\u001b[38;5;241m.\u001b[39mcases:\n\u001b[1;32m     81\u001b[0m     results\u001b[38;5;241m.\u001b[39mappend(\n\u001b[0;32m---> 82\u001b[0m         \u001b[43m_evaluate_case\u001b[49m\u001b[43m(\u001b[49m\n\u001b[1;32m     83\u001b[0m \u001b[43m            \u001b[49m\u001b[43mindividual_case\u001b[49m\u001b[43m,\u001b[49m\n\u001b[1;32m     84\u001b[0m \u001b[43m            \u001b[49m\u001b[43mevent\u001b[49m\u001b[38;5;241;43m.\u001b[39;49m\u001b[43mmetrics\u001b[49m\u001b[43m,\u001b[49m\n\u001b[1;32m     85\u001b[0m \u001b[43m            \u001b[49m\u001b[43mforecast_dataset\u001b[49m\u001b[43m,\u001b[49m\n\u001b[1;32m     86\u001b[0m \u001b[43m            \u001b[49m\u001b[43mgridded_obs\u001b[49m\u001b[43m,\u001b[49m\n\u001b[1;32m     87\u001b[0m \u001b[43m            \u001b[49m\u001b[43mpoint_obs\u001b[49m\u001b[43m,\u001b[49m\n\u001b[1;32m     88\u001b[0m \u001b[43m        \u001b[49m\u001b[43m)\u001b[49m\n\u001b[1;32m     89\u001b[0m     )\n\u001b[1;32m     90\u001b[0m \u001b[38;5;28;01mreturn\u001b[39;00m results\n",
      "File \u001b[0;32m~/code/ExtremeWeatherBench/src/extremeweatherbench/evaluate.py:119\u001b[0m, in \u001b[0;36m_evaluate_case\u001b[0;34m(individual_case, metrics, forecast_dataset, gridded_obs, point_obs)\u001b[0m\n\u001b[1;32m    117\u001b[0m \u001b[38;5;28;01mif\u001b[39;00m gridded_obs \u001b[38;5;129;01mis\u001b[39;00m \u001b[38;5;129;01mnot\u001b[39;00m \u001b[38;5;28;01mNone\u001b[39;00m:\n\u001b[1;32m    118\u001b[0m     \u001b[38;5;28;01mfor\u001b[39;00m metric \u001b[38;5;129;01min\u001b[39;00m metrics:\n\u001b[0;32m--> 119\u001b[0m         result \u001b[38;5;241m=\u001b[39m \u001b[43mmetric\u001b[49m\u001b[38;5;241;43m.\u001b[39;49m\u001b[43mcompute\u001b[49m\u001b[43m(\u001b[49m\u001b[43mforecast_dataset\u001b[49m\u001b[43m,\u001b[49m\u001b[43m \u001b[49m\u001b[43mgridded_obs\u001b[49m\u001b[43m)\u001b[49m\n\u001b[1;32m    120\u001b[0m         \u001b[38;5;28;01mreturn\u001b[39;00m result\n",
      "File \u001b[0;32m~/code/ExtremeWeatherBench/src/extremeweatherbench/metrics.py:83\u001b[0m, in \u001b[0;36mMaximumMAE.compute\u001b[0;34m(self, forecast, observation)\u001b[0m\n\u001b[1;32m     77\u001b[0m merged_dataset \u001b[38;5;241m=\u001b[39m xr\u001b[38;5;241m.\u001b[39mmerge(\n\u001b[1;32m     78\u001b[0m     [era5_climatology, observation],\n\u001b[1;32m     79\u001b[0m     join\u001b[38;5;241m=\u001b[39m\u001b[38;5;124m\"\u001b[39m\u001b[38;5;124minner\u001b[39m\u001b[38;5;124m\"\u001b[39m,\n\u001b[1;32m     80\u001b[0m )\n\u001b[1;32m     81\u001b[0m merged_dataset \u001b[38;5;241m=\u001b[39m utils\u001b[38;5;241m.\u001b[39mconvert_longitude_to_180(merged_dataset)\n\u001b[1;32m     82\u001b[0m merged_dataset \u001b[38;5;241m=\u001b[39m utils\u001b[38;5;241m.\u001b[39mclip_dataset_to_bounding_box(\n\u001b[0;32m---> 83\u001b[0m     merged_dataset, \u001b[43mlocation_center\u001b[49m, box_length_width_in_km\n\u001b[1;32m     84\u001b[0m )\n\u001b[1;32m     85\u001b[0m merged_dataset \u001b[38;5;241m=\u001b[39m utils\u001b[38;5;241m.\u001b[39mremove_ocean_gridpoints(merged_dataset)\n\u001b[1;32m     86\u001b[0m \u001b[38;5;28;01mreturn\u001b[39;00m \u001b[38;5;28;01mNone\u001b[39;00m\n",
      "\u001b[0;31mNameError\u001b[0m: name 'location_center' is not defined"
     ]
    }
   ],
   "source": [
    "cases = evaluate.evaluate(eval_config=heatwave_configuration, forecast_schema_config=default_forecast_config)"
   ]
  },
  {
   "cell_type": "code",
   "execution_count": 5,
   "metadata": {},
   "outputs": [
    {
     "data": {
      "text/plain": [
       "[MaximumMAE(), DurationME(), RegionalRMSE(), MaxMinMAE(), OnsetME()]"
      ]
     },
     "execution_count": 5,
     "metadata": {},
     "output_type": "execute_result"
    }
   ],
   "source": [
    "cases.metrics"
   ]
  }
 ],
 "metadata": {
  "kernelspec": {
   "display_name": ".venv",
   "language": "python",
   "name": "python3"
  },
  "language_info": {
   "codemirror_mode": {
    "name": "ipython",
    "version": 3
   },
   "file_extension": ".py",
   "mimetype": "text/x-python",
   "name": "python",
   "nbconvert_exporter": "python",
   "pygments_lexer": "ipython3",
   "version": "3.12.7"
  }
 },
 "nbformat": 4,
 "nbformat_minor": 2
}
