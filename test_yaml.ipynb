{
 "cells": [
  {
   "cell_type": "code",
   "execution_count": 3,
   "metadata": {},
   "outputs": [],
   "source": [
    "import yaml\n",
    "import dataclasses"
   ]
  },
  {
   "cell_type": "code",
   "execution_count": null,
   "metadata": {},
   "outputs": [],
   "source": []
  },
  {
   "cell_type": "code",
   "execution_count": 2,
   "metadata": {},
   "outputs": [
    {
     "name": "stdout",
     "output_type": "stream",
     "text": [
      "{'events': {'heat_wave': [{'title': '2021 Western North America heat wave', 'start_date': datetime.date(2021, 6, 25), 'end_date': datetime.date(2021, 6, 30), 'location': {'latitude': 47.6062, 'longitude': 122.3321}, 'resources': [{'url': 'https://en.wikipedia.org/wiki/2021_Western_North_America_heat_wave'}]}, {'title': 'Upper midwest May 2022'}, {'title': '2022 North American heat waves', 'resources': [{'title': 'Wikipedia', 'url': 'https://en.wikipedia.org/wiki/2022_North_American_heat_waves'}]}, {'title': 'Western to southwestern US - 2nd week of June 2022'}, {'title': 'Arizona and Utah July 2022'}, {'title': 'Heat wave responsible for multiple deaths across US', 'resources': [{'title': 'Fox News', 'url': 'https://www.foxnews.com'}]}, {'title': '2023 Western North America heat wave', 'resources': [{'title': 'Wikipedia', 'url': 'https://en.wikipedia.org/wiki/2023_Western_North_America_heat_wave'}]}, {'title': 'Texas end of May 2024'}, {'title': 'New England June 2024'}, {'title': 'Widespread US heat July 2024'}, {'title': 'Upper midwest and mid atlantic August 2024'}, {'title': 'Map Shows 2 States Break Heat Records Amid Soaring Temperatures', 'resources': [{'title': 'Newsweek', 'url': 'https://www.newsweek.com'}]}, {'title': 'Antarctica 2024', 'resources': [{'title': 'Wikipedia', 'url': 'https://en.wikipedia.org/wiki/2024_Antarctica_heat_wave'}]}, {'title': 'Aug 9-11 2024 - Canada'}, {'title': 'August 2024 - Australia', 'resources': [{'title': 'ABC News', 'url': 'https://www.abc.net.au/news'}]}, {'title': 'July 2024 - Japan', 'resources': [{'title': 'Wikipedia', 'url': 'https://en.wikipedia.org/wiki/2024_Japan_heatwaves'}]}, {'title': 'June 2024 - Saudi Arabia', 'resources': [{'title': 'ClimaMeter', 'url': 'https://climameter.com'}]}, {'title': 'June 2024 - Europe', 'resources': [{'title': 'Wikipedia', 'url': 'https://en.wikipedia.org/wiki/2024_European_heatwaves'}]}, {'title': 'May 2024 - Mexico city'}, {'title': 'May/June 2024 - India and Pakistan', 'resources': [{'title': 'Wikipedia', 'url': 'https://en.wikipedia.org/wiki/2024_Indian_heat_wave'}, {'title': 'Wikipedia', 'url': 'https://en.wikipedia.org/wiki/2024_Pakistan_heat_wave'}]}, {'title': 'Southwest Western Australia. Nov 2023.', 'resources': [{'title': 'BOM', 'url': 'http://www.bom.gov.au/climate/current/statements/scs78.pdf?20240202'}]}, {'title': 'Sep 2023 - UK and Ireland and France', 'resources': [{'title': 'Wikipedia', 'url': 'https://en.wikipedia.org/wiki/2023_heat_waves'}]}, {'title': 'Aug 19 - 25 2023 - South western Europe'}, {'title': 'South America - July- Sep 2023 winter/spring heatwave', 'resources': [{'title': 'Wikipedia', 'url': 'https://en.wikipedia.org/wiki/2023_South_America_heat_wave'}]}, {'title': 'July 16 2023 - China', 'resources': [{'title': 'Wikipedia', 'url': 'https://en.wikipedia.org/wiki/2023_Asia_heat_wave'}]}, {'title': 'July 15 - 27 2023 - Southern Europe'}, {'title': 'July 18 2023 - Sub-Saharan Africa'}, {'title': 'April 24 - 28 2023 - Spain and Portugal'}, {'title': 'April 26 to 28 2023 - North Africa'}, {'title': 'April 16 - 22 2023 - India'}, {'title': 'April 21 - May 12 (probably longer) 2023 - Philippines'}, {'title': 'Europe Dec 2022', 'resources': [{'title': 'ECMWF', 'url': 'https://confluence.ecmwf.int/display/FCST/202212+-+Heatwave+-+Europe'}]}, {'title': 'UK - Aug 2022'}, {'title': 'Western Europe - July 2022'}, {'title': 'Western Europe - June 2022'}, {'title': 'Europe - June 2022'}, {'title': 'Japan - June- August 2022', 'resources': [{'title': 'Wikipedia', 'url': 'https://en.wikipedia.org/wiki/2022_Japan_heat_wave'}]}, {'title': 'India and Pakistan - May 2022', 'resources': [{'title': 'ECMWF', 'url': 'https://confluence.ecmwf.int/display/FCST/202205+-+Heatwave+-+India%2C+Pakistan'}]}, {'title': 'March 15-19 2022 East Antarctica', 'resources': [{'title': 'Wikipedia', 'url': 'https://en.wikipedia.org/wiki/2022_East_Antarctica_heat_wave'}]}, {'title': 'Australia January 14-23 2022'}, {'title': 'Mediterranean - Aug 2021'}, {'title': 'Western Europe - Aug 2020'}, {'title': 'Eurasia winter heatwave - Feb 2021', 'resources': [{'title': 'Wikipedia', 'url': 'https://en.wikipedia.org/wiki/2021_Eurasia_winter_heat_wave'}]}, {'title': 'South Eastern Europe - May 2020'}, {'title': 'Russia - June 2021'}, {'title': 'Canada - early June 2021'}, {'title': 'UK and Ireland - July 2021', 'resources': [{'title': 'Wikipedia', 'url': 'https://en.wikipedia.org/wiki/2021_British_Isles_heatwave'}]}, {'title': 'New Zealand 25-28 January'}, {'title': 'Australia Dec 2019 - Jan 2020 (black summer)'}, {'title': 'Australia 4 Nov - Dec 7 2020'}, {'title': 'April 15-16 and April 18-19, 2020 Arctic'}]}}\n"
     ]
    }
   ],
   "source": [
    "with open('assets/data/events.yaml', 'r') as file:\n",
    "    events = yaml.safe_load(file)\n",
    "\n",
    "print(events)"
   ]
  }
 ],
 "metadata": {
  "kernelspec": {
   "display_name": "espr",
   "language": "python",
   "name": "python3"
  },
  "language_info": {
   "codemirror_mode": {
    "name": "ipython",
    "version": 3
   },
   "file_extension": ".py",
   "mimetype": "text/x-python",
   "name": "python",
   "nbconvert_exporter": "python",
   "pygments_lexer": "ipython3",
   "version": "3.11.10"
  }
 },
 "nbformat": 4,
 "nbformat_minor": 2
}
