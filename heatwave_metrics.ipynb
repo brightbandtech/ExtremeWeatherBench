{
 "cells": [
  {
   "cell_type": "code",
   "execution_count": 1,
   "metadata": {},
   "outputs": [],
   "source": [
    "import xarray as xr\n",
    "import numpy as np\n",
    "from google.cloud import storage\n",
    "import fsspec\n",
    "from kerchunk.hdf import SingleHdf5ToZarr \n",
    "from kerchunk.combine import MultiZarrToZarr\n",
    "from pathlib import Path\n",
    "import ujson\n",
    "from dask.distributed import Client, LocalCluster\n",
    "from dask.diagnostics import ProgressBar\n",
    "import cartopy.crs as ccrs\n",
    "import cartopy.feature as cfeature\n",
    "from cartopy.mpl.gridliner import LongitudeFormatter, LatitudeFormatter\n",
    "import matplotlib.pyplot as plt\n",
    "from mpl_toolkits.axes_grid1 import make_axes_locatable\n",
    "import scores\n",
    "import pandas as pd\n",
    "import seaborn as sns\n",
    "import eccodes\n",
    "import dask\n",
    "import cfgrib\n",
    "import herbie.accessors\n",
    "import regionmask\n",
    "import xskillscore\n",
    "dask.config.set({'temporary_directory': '/mnt/disks/data/'})\n",
    "sns.set_theme(style='whitegrid',context='talk')"
   ]
  },
  {
   "cell_type": "markdown",
   "metadata": {},
   "source": [
    "Heatwave metrics need to emphasize the impact of duration and intensity. For intensity, RMSE is a valid metric that punishes outliers and is interpretable as similar to MAE for various users. RMSE can be applied regionally and at observation stations, therefore used as a metric for both.\n",
    "\n",
    "Also, length of time in each forecast the: 1. observation location was above 85th percentile mean and 2. at least 25% of the region was above 85th percentile mean\n",
    "\n",
    "Anomaly correlation will be used spatially to determine how well the model forecast anomalies between ERA5 and the AI model.\n",
    "\n",
    "The only wrinkle left is what to compare these models against, but we can worry about that later?"
   ]
  },
  {
   "cell_type": "code",
   "execution_count": 2,
   "metadata": {},
   "outputs": [],
   "source": [
    "fs_read = fsspec.filesystem('gcs', anon=False, skip_instance_cache=True)\n",
    "fs_local = fsspec.filesystem('')  \n",
    "json_dir = 'assets/json/'\n",
    "json_list = fs_local.glob(str(json_dir)+'PANG*_.json')\n",
    "so = dict(mode='rb', anon=True, default_fill_cache=False, default_cache_type='first')\n",
    "\n",
    "def convert_longitude_to_360(longitude):\n",
    "    return longitude % 360\n",
    "\n",
    "def generate_json_from_grap_nc(u,fs, fs_out):\n",
    "    with fs.open(u, **so) as infile:\n",
    "        h5chunks = SingleHdf5ToZarr(infile, u, inline_threshold=300)\n",
    "\n",
    "        file_split = u.split('/') # seperate file path to create a unique name for each json \n",
    "        model = file_split[1].split('_')[0]\n",
    "        date_string = file_split[-1].split('_')[3]\n",
    "        outf = f'{json_dir}{model}_{date_string}_.json'\n",
    "        print(outf)\n",
    "        with fs_out.open(outf, 'wb') as f:\n",
    "            f.write(ujson.dumps(h5chunks.translate()).encode());\n",
    "\n",
    "# seasonal aggregation functions for max, min, and mean\n",
    "def seasonal_subset_max(df):\n",
    "    df = df.where(df.index.month.isin([6,7,8]))\n",
    "    return df.max()\n",
    "\n",
    "def seasonal_subset_min(df):\n",
    "    df = df.where(df.index.month.isin([6,7,8]))\n",
    "    return df.min()\n",
    "\n",
    "def seasonal_subset_mean(df):\n",
    "    df = df.where(df.index.month.isin([6,7,8]))\n",
    "    return df.mean()\n",
    "\n",
    "def is_jja(month):\n",
    "    return (month >= 6) & (month <= 8)\n",
    "\n",
    "def is_6_hourly(hour):\n",
    "    return (hour == 0) | (hour == 6) | (hour == 12) | (hour == 18)\n"
   ]
  },
  {
   "cell_type": "markdown",
   "metadata": {},
   "source": [
    "# Load in gridded data"
   ]
  },
  {
   "cell_type": "code",
   "execution_count": 3,
   "metadata": {},
   "outputs": [],
   "source": [
    "fs_ = fsspec.filesystem(\"reference\", fo=json_list[0], ref_storage_args={'skip_instance_cache':True},\n",
    "                       remote_protocol='gcs', remote_options={'anon':True})\n",
    "m = fs_.get_mapper(\"\")\n",
    "ds = xr.open_dataset(m, engine=\"zarr\", backend_kwargs={'consolidated':False}, chunks={})\n",
    "ds['t2c'] = ds['t2']-273.15\n",
    "\n",
    "pangu_t2c = ds['t2c'].compute()"
   ]
  },
  {
   "cell_type": "code",
   "execution_count": 4,
   "metadata": {},
   "outputs": [],
   "source": [
    "era5 = xr.open_zarr(\n",
    "    \"gs://gcp-public-data-arco-era5/ar/1959-2022-full_37-1h-0p25deg-chunk-1.zarr-v2\",\n",
    "    chunks='auto',\n",
    "    storage_options=dict(token='anon'),\n",
    ")\n",
    "era5_pnw_heatwave_2021 = era5[['2m_temperature']].sel(time=slice('2021-06-25','2021-06-29'))\n",
    "era5_pnw_heatwave_2021 = era5_pnw_heatwave_2021.sel(time=is_6_hourly(era5_pnw_heatwave_2021['time.hour']))"
   ]
  },
  {
   "cell_type": "code",
   "execution_count": 5,
   "metadata": {},
   "outputs": [],
   "source": [
    "def subset_region_by_event(pangu_t2c):\n",
    "    ar6_regions = regionmask.defined_regions.ar6.land\n",
    "    # Get the mask for the specific region\n",
    "    mask = ar6_regions.mask(pangu_t2c.longitude, pangu_t2c.latitude)\n",
    "\n",
    "    # Create a mask for the 'Africa' region (you can check the specific ID for your region)\n",
    "    wna_mask = mask == ar6_regions.abbrevs.index('WNA')\n",
    "    land = regionmask.defined_regions.natural_earth_v5_0_0.land_110\n",
    "    land_sea_mask = land.mask(pangu_t2c.longitude, pangu_t2c.latitude)\n",
    "\n",
    "    ds_subset = pangu_t2c.where((wna_mask) & (land_sea_mask == 0), drop=True)\n",
    "    return ds_subset\n",
    "\n"
   ]
  },
  {
   "cell_type": "code",
   "execution_count": 6,
   "metadata": {},
   "outputs": [
    {
     "ename": "NameError",
     "evalue": "name 'pangu_subset' is not defined",
     "output_type": "error",
     "traceback": [
      "\u001b[0;31m---------------------------------------------------------------------------\u001b[0m",
      "\u001b[0;31mNameError\u001b[0m                                 Traceback (most recent call last)",
      "Cell \u001b[0;32mIn[6], line 1\u001b[0m\n\u001b[0;32m----> 1\u001b[0m \u001b[43mpangu_subset\u001b[49m\u001b[38;5;241m.\u001b[39mwhere(pangu_subset \u001b[38;5;241m>\u001b[39m era5_85th[\u001b[38;5;124m'\u001b[39m\u001b[38;5;124m2m_temperature\u001b[39m\u001b[38;5;124m'\u001b[39m]\u001b[38;5;241m-\u001b[39m\u001b[38;5;241m273.15\u001b[39m)\u001b[38;5;241m.\u001b[39misel(time\u001b[38;5;241m=\u001b[39m\u001b[38;5;241m39\u001b[39m)\u001b[38;5;241m.\u001b[39mplot()\n\u001b[1;32m      3\u001b[0m \u001b[38;5;66;03m# output_ehe_mask = xr.where((daily_max_temp > era5_climatology_85) &  \u001b[39;00m\n\u001b[1;32m      4\u001b[0m \u001b[38;5;66;03m#                            (prev_day_max_temp > era5_climatology_85) &\u001b[39;00m\n\u001b[1;32m      5\u001b[0m \u001b[38;5;66;03m#                            (land_sea_mask == 0),\u001b[39;00m\n\u001b[1;32m      6\u001b[0m \u001b[38;5;66;03m#                            1,\u001b[39;00m\n\u001b[1;32m      7\u001b[0m \u001b[38;5;66;03m#                            0)\u001b[39;00m\n",
      "\u001b[0;31mNameError\u001b[0m: name 'pangu_subset' is not defined"
     ]
    }
   ],
   "source": [
    "pangu_subset.where(pangu_subset > era5_85th['2m_temperature']-273.15).isel(time=39).plot()\n",
    "\n",
    "# output_ehe_mask = xr.where((daily_max_temp > era5_climatology_85) &  \n",
    "#                            (prev_day_max_temp > era5_climatology_85) &\n",
    "#                            (land_sea_mask == 0),\n",
    "#                            1,\n",
    "#                            0)"
   ]
  },
  {
   "cell_type": "code",
   "execution_count": null,
   "metadata": {},
   "outputs": [],
   "source": [
    "era5_85th = xr.open_zarr('/home/taylor/data/era5_2m_temperature_85th_percentile_1989-2019.zarr', chunks='auto')\n",
    "era5_85th = subset_region_by_event(era5_85th)"
   ]
  },
  {
   "cell_type": "code",
   "execution_count": null,
   "metadata": {},
   "outputs": [
    {
     "ename": "KeyboardInterrupt",
     "evalue": "",
     "output_type": "error",
     "traceback": [
      "\u001b[0;31m---------------------------------------------------------------------------\u001b[0m",
      "\u001b[0;31mKeyboardInterrupt\u001b[0m                         Traceback (most recent call last)",
      "Cell \u001b[0;32mIn[37], line 10\u001b[0m\n\u001b[1;32m      8\u001b[0m ds \u001b[38;5;241m=\u001b[39m xr\u001b[38;5;241m.\u001b[39mopen_dataset(m, engine\u001b[38;5;241m=\u001b[39m\u001b[38;5;124m\"\u001b[39m\u001b[38;5;124mzarr\u001b[39m\u001b[38;5;124m\"\u001b[39m, backend_kwargs\u001b[38;5;241m=\u001b[39m{\u001b[38;5;124m'\u001b[39m\u001b[38;5;124mconsolidated\u001b[39m\u001b[38;5;124m'\u001b[39m:\u001b[38;5;28;01mFalse\u001b[39;00m}, chunks\u001b[38;5;241m=\u001b[39m{})\n\u001b[1;32m      9\u001b[0m pangu_subset \u001b[38;5;241m=\u001b[39m subset_region_by_event(pangu_t2c)\n\u001b[0;32m---> 10\u001b[0m era5_pnw_heatwave_2021_subset \u001b[38;5;241m=\u001b[39m \u001b[43msubset_region_by_event\u001b[49m\u001b[43m(\u001b[49m\u001b[43mera5_pnw_heatwave_2021\u001b[49m\u001b[43m)\u001b[49m\n",
      "Cell \u001b[0;32mIn[35], line 9\u001b[0m, in \u001b[0;36msubset_region_by_event\u001b[0;34m(pangu_t2c)\u001b[0m\n\u001b[1;32m      7\u001b[0m wna_mask \u001b[38;5;241m=\u001b[39m mask \u001b[38;5;241m==\u001b[39m ar6_regions\u001b[38;5;241m.\u001b[39mabbrevs\u001b[38;5;241m.\u001b[39mindex(\u001b[38;5;124m'\u001b[39m\u001b[38;5;124mWNA\u001b[39m\u001b[38;5;124m'\u001b[39m)\n\u001b[1;32m      8\u001b[0m land \u001b[38;5;241m=\u001b[39m regionmask\u001b[38;5;241m.\u001b[39mdefined_regions\u001b[38;5;241m.\u001b[39mnatural_earth_v5_0_0\u001b[38;5;241m.\u001b[39mland_110\n\u001b[0;32m----> 9\u001b[0m land_sea_mask \u001b[38;5;241m=\u001b[39m \u001b[43mland\u001b[49m\u001b[38;5;241;43m.\u001b[39;49m\u001b[43mmask\u001b[49m\u001b[43m(\u001b[49m\u001b[43mpangu_t2c\u001b[49m\u001b[38;5;241;43m.\u001b[39;49m\u001b[43mlongitude\u001b[49m\u001b[43m,\u001b[49m\u001b[43m \u001b[49m\u001b[43mpangu_t2c\u001b[49m\u001b[38;5;241;43m.\u001b[39;49m\u001b[43mlatitude\u001b[49m\u001b[43m)\u001b[49m\n\u001b[1;32m     11\u001b[0m ds_subset \u001b[38;5;241m=\u001b[39m pangu_t2c\u001b[38;5;241m.\u001b[39mwhere((wna_mask) \u001b[38;5;241m&\u001b[39m (land_sea_mask \u001b[38;5;241m==\u001b[39m \u001b[38;5;241m0\u001b[39m), drop\u001b[38;5;241m=\u001b[39m\u001b[38;5;28;01mTrue\u001b[39;00m)\n\u001b[1;32m     12\u001b[0m \u001b[38;5;28;01mreturn\u001b[39;00m ds_subset\n",
      "File \u001b[0;32m~/anaconda3/envs/brightband/lib/python3.11/site-packages/regionmask/core/_deprecate.py:108\u001b[0m, in \u001b[0;36m_deprecate_positional_args.<locals>._decorator.<locals>.inner\u001b[0;34m(*args, **kwargs)\u001b[0m\n\u001b[1;32m    104\u001b[0m     kwargs\u001b[38;5;241m.\u001b[39mupdate({name: arg \u001b[38;5;28;01mfor\u001b[39;00m name, arg \u001b[38;5;129;01min\u001b[39;00m zip_args})\n\u001b[1;32m    106\u001b[0m     \u001b[38;5;28;01mreturn\u001b[39;00m func(\u001b[38;5;241m*\u001b[39margs[:\u001b[38;5;241m-\u001b[39mn_extra_args], \u001b[38;5;241m*\u001b[39m\u001b[38;5;241m*\u001b[39mkwargs)\n\u001b[0;32m--> 108\u001b[0m \u001b[38;5;28;01mreturn\u001b[39;00m \u001b[43mfunc\u001b[49m\u001b[43m(\u001b[49m\u001b[38;5;241;43m*\u001b[39;49m\u001b[43margs\u001b[49m\u001b[43m,\u001b[49m\u001b[43m \u001b[49m\u001b[38;5;241;43m*\u001b[39;49m\u001b[38;5;241;43m*\u001b[39;49m\u001b[43mkwargs\u001b[49m\u001b[43m)\u001b[49m\n",
      "File \u001b[0;32m~/anaconda3/envs/brightband/lib/python3.11/site-packages/regionmask/core/regions.py:345\u001b[0m, in \u001b[0;36mRegions.mask\u001b[0;34m(self, lon_or_obj, lat, lon_name, lat_name, method, wrap_lon, flag, use_cf)\u001b[0m\n\u001b[1;32m    338\u001b[0m \u001b[38;5;28;01mif\u001b[39;00m \u001b[38;5;28mself\u001b[39m\u001b[38;5;241m.\u001b[39moverlap:\n\u001b[1;32m    339\u001b[0m     \u001b[38;5;28;01mraise\u001b[39;00m \u001b[38;5;167;01mValueError\u001b[39;00m(\n\u001b[1;32m    340\u001b[0m         \u001b[38;5;124m\"\u001b[39m\u001b[38;5;124mCreating a 2D mask with overlapping regions yields wrong results. \u001b[39m\u001b[38;5;124m\"\u001b[39m\n\u001b[1;32m    341\u001b[0m         \u001b[38;5;124m\"\u001b[39m\u001b[38;5;124mPlease use ``region.mask_3D(...)`` instead. \u001b[39m\u001b[38;5;124m\"\u001b[39m\n\u001b[1;32m    342\u001b[0m         \u001b[38;5;124m\"\u001b[39m\u001b[38;5;124mTo create a 2D mask anyway, set ``region.overlap = False``.\u001b[39m\u001b[38;5;124m\"\u001b[39m\n\u001b[1;32m    343\u001b[0m     )\n\u001b[0;32m--> 345\u001b[0m mask_2D \u001b[38;5;241m=\u001b[39m \u001b[43m_mask_2D\u001b[49m\u001b[43m(\u001b[49m\n\u001b[1;32m    346\u001b[0m \u001b[43m    \u001b[49m\u001b[43mpolygons\u001b[49m\u001b[38;5;241;43m=\u001b[39;49m\u001b[38;5;28;43mself\u001b[39;49m\u001b[38;5;241;43m.\u001b[39;49m\u001b[43mpolygons\u001b[49m\u001b[43m,\u001b[49m\n\u001b[1;32m    347\u001b[0m \u001b[43m    \u001b[49m\u001b[43mnumbers\u001b[49m\u001b[38;5;241;43m=\u001b[39;49m\u001b[38;5;28;43mself\u001b[39;49m\u001b[38;5;241;43m.\u001b[39;49m\u001b[43mnumbers\u001b[49m\u001b[43m,\u001b[49m\n\u001b[1;32m    348\u001b[0m \u001b[43m    \u001b[49m\u001b[43mlon_or_obj\u001b[49m\u001b[38;5;241;43m=\u001b[39;49m\u001b[43mlon_or_obj\u001b[49m\u001b[43m,\u001b[49m\n\u001b[1;32m    349\u001b[0m \u001b[43m    \u001b[49m\u001b[43mlat\u001b[49m\u001b[38;5;241;43m=\u001b[39;49m\u001b[43mlat\u001b[49m\u001b[43m,\u001b[49m\n\u001b[1;32m    350\u001b[0m \u001b[43m    \u001b[49m\u001b[43mlon_name\u001b[49m\u001b[38;5;241;43m=\u001b[39;49m\u001b[43mlon_name\u001b[49m\u001b[43m,\u001b[49m\n\u001b[1;32m    351\u001b[0m \u001b[43m    \u001b[49m\u001b[43mlat_name\u001b[49m\u001b[38;5;241;43m=\u001b[39;49m\u001b[43mlat_name\u001b[49m\u001b[43m,\u001b[49m\n\u001b[1;32m    352\u001b[0m \u001b[43m    \u001b[49m\u001b[43mmethod\u001b[49m\u001b[38;5;241;43m=\u001b[39;49m\u001b[43mmethod\u001b[49m\u001b[43m,\u001b[49m\n\u001b[1;32m    353\u001b[0m \u001b[43m    \u001b[49m\u001b[43mwrap_lon\u001b[49m\u001b[38;5;241;43m=\u001b[39;49m\u001b[43mwrap_lon\u001b[49m\u001b[43m,\u001b[49m\n\u001b[1;32m    354\u001b[0m \u001b[43m    \u001b[49m\u001b[43muse_cf\u001b[49m\u001b[38;5;241;43m=\u001b[39;49m\u001b[43muse_cf\u001b[49m\u001b[43m,\u001b[49m\n\u001b[1;32m    355\u001b[0m \u001b[43m    \u001b[49m\u001b[43moverlap\u001b[49m\u001b[38;5;241;43m=\u001b[39;49m\u001b[38;5;28;43mself\u001b[39;49m\u001b[38;5;241;43m.\u001b[39;49m\u001b[43moverlap\u001b[49m\u001b[43m,\u001b[49m\n\u001b[1;32m    356\u001b[0m \u001b[43m\u001b[49m\u001b[43m)\u001b[49m\n\u001b[1;32m    358\u001b[0m \u001b[38;5;28;01mif\u001b[39;00m flag \u001b[38;5;129;01mnot\u001b[39;00m \u001b[38;5;129;01min\u001b[39;00m [\u001b[38;5;28;01mNone\u001b[39;00m, \u001b[38;5;124m\"\u001b[39m\u001b[38;5;124mabbrevs\u001b[39m\u001b[38;5;124m\"\u001b[39m, \u001b[38;5;124m\"\u001b[39m\u001b[38;5;124mnames\u001b[39m\u001b[38;5;124m\"\u001b[39m]:\n\u001b[1;32m    359\u001b[0m     \u001b[38;5;28;01mraise\u001b[39;00m \u001b[38;5;167;01mValueError\u001b[39;00m(\n\u001b[1;32m    360\u001b[0m         \u001b[38;5;124mf\u001b[39m\u001b[38;5;124m\"\u001b[39m\u001b[38;5;124m`flag` must be one of `None`, `\u001b[39m\u001b[38;5;124m'\u001b[39m\u001b[38;5;124mabbrevs\u001b[39m\u001b[38;5;124m'\u001b[39m\u001b[38;5;124m` and `\u001b[39m\u001b[38;5;124m'\u001b[39m\u001b[38;5;124mnames\u001b[39m\u001b[38;5;124m'\u001b[39m\u001b[38;5;124m`, found \u001b[39m\u001b[38;5;132;01m{\u001b[39;00mflag\u001b[38;5;132;01m}\u001b[39;00m\u001b[38;5;124m\"\u001b[39m\n\u001b[1;32m    361\u001b[0m     )\n",
      "File \u001b[0;32m~/anaconda3/envs/brightband/lib/python3.11/site-packages/regionmask/core/mask.py:383\u001b[0m, in \u001b[0;36m_mask_2D\u001b[0;34m(polygons, numbers, lon_or_obj, lat, lon_name, lat_name, method, wrap_lon, use_cf, overlap)\u001b[0m\n\u001b[1;32m    358\u001b[0m \u001b[38;5;28;01mdef\u001b[39;00m \u001b[38;5;21m_mask_2D\u001b[39m(\n\u001b[1;32m    359\u001b[0m     polygons,\n\u001b[1;32m    360\u001b[0m     numbers,\n\u001b[0;32m   (...)\u001b[0m\n\u001b[1;32m    379\u001b[0m \n\u001b[1;32m    380\u001b[0m     \u001b[38;5;66;03m# if as_3D is not explicitly given - set it to True\u001b[39;00m\n\u001b[1;32m    381\u001b[0m     as_3D \u001b[38;5;241m=\u001b[39m overlap \u001b[38;5;129;01mis\u001b[39;00m \u001b[38;5;28;01mNone\u001b[39;00m\n\u001b[0;32m--> 383\u001b[0m     mask \u001b[38;5;241m=\u001b[39m \u001b[43m_mask\u001b[49m\u001b[43m(\u001b[49m\n\u001b[1;32m    384\u001b[0m \u001b[43m        \u001b[49m\u001b[43mpolygons\u001b[49m\u001b[38;5;241;43m=\u001b[39;49m\u001b[43mpolygons\u001b[49m\u001b[43m,\u001b[49m\n\u001b[1;32m    385\u001b[0m \u001b[43m        \u001b[49m\u001b[43mnumbers\u001b[49m\u001b[38;5;241;43m=\u001b[39;49m\u001b[43mnumbers\u001b[49m\u001b[43m,\u001b[49m\n\u001b[1;32m    386\u001b[0m \u001b[43m        \u001b[49m\u001b[43mlon_or_obj\u001b[49m\u001b[38;5;241;43m=\u001b[39;49m\u001b[43mlon_or_obj\u001b[49m\u001b[43m,\u001b[49m\n\u001b[1;32m    387\u001b[0m \u001b[43m        \u001b[49m\u001b[43mlat\u001b[49m\u001b[38;5;241;43m=\u001b[39;49m\u001b[43mlat\u001b[49m\u001b[43m,\u001b[49m\n\u001b[1;32m    388\u001b[0m \u001b[43m        \u001b[49m\u001b[43mlon_name\u001b[49m\u001b[38;5;241;43m=\u001b[39;49m\u001b[43mlon_name\u001b[49m\u001b[43m,\u001b[49m\n\u001b[1;32m    389\u001b[0m \u001b[43m        \u001b[49m\u001b[43mlat_name\u001b[49m\u001b[38;5;241;43m=\u001b[39;49m\u001b[43mlat_name\u001b[49m\u001b[43m,\u001b[49m\n\u001b[1;32m    390\u001b[0m \u001b[43m        \u001b[49m\u001b[43mmethod\u001b[49m\u001b[38;5;241;43m=\u001b[39;49m\u001b[43mmethod\u001b[49m\u001b[43m,\u001b[49m\n\u001b[1;32m    391\u001b[0m \u001b[43m        \u001b[49m\u001b[43mwrap_lon\u001b[49m\u001b[38;5;241;43m=\u001b[39;49m\u001b[43mwrap_lon\u001b[49m\u001b[43m,\u001b[49m\n\u001b[1;32m    392\u001b[0m \u001b[43m        \u001b[49m\u001b[43muse_cf\u001b[49m\u001b[38;5;241;43m=\u001b[39;49m\u001b[43muse_cf\u001b[49m\u001b[43m,\u001b[49m\n\u001b[1;32m    393\u001b[0m \u001b[43m        \u001b[49m\u001b[43mas_3D\u001b[49m\u001b[38;5;241;43m=\u001b[39;49m\u001b[43mas_3D\u001b[49m\u001b[43m,\u001b[49m\n\u001b[1;32m    394\u001b[0m \u001b[43m    \u001b[49m\u001b[43m)\u001b[49m\n\u001b[1;32m    396\u001b[0m     \u001b[38;5;66;03m# only happens for (overlap == None)\u001b[39;00m\n\u001b[1;32m    397\u001b[0m     \u001b[38;5;28;01mif\u001b[39;00m as_3D:\n",
      "File \u001b[0;32m~/anaconda3/envs/brightband/lib/python3.11/site-packages/regionmask/core/mask.py:275\u001b[0m, in \u001b[0;36m_mask\u001b[0;34m(polygons, numbers, lon_or_obj, lat, lon_name, lat_name, method, wrap_lon, as_3D, use_cf)\u001b[0m\n\u001b[1;32m    272\u001b[0m     mask_func \u001b[38;5;241m=\u001b[39m _mask_shapely_v2\n\u001b[1;32m    273\u001b[0m     kwargs \u001b[38;5;241m=\u001b[39m {\u001b[38;5;124m\"\u001b[39m\u001b[38;5;124mis_unstructured\u001b[39m\u001b[38;5;124m\"\u001b[39m: is_unstructured}\n\u001b[0;32m--> 275\u001b[0m mask \u001b[38;5;241m=\u001b[39m \u001b[43mmask_func\u001b[49m\u001b[43m(\u001b[49m\u001b[43mlon_arr\u001b[49m\u001b[43m,\u001b[49m\u001b[43m \u001b[49m\u001b[43mlat_arr\u001b[49m\u001b[43m,\u001b[49m\u001b[43m \u001b[49m\u001b[43mpolygons\u001b[49m\u001b[43m,\u001b[49m\u001b[43m \u001b[49m\u001b[43mnumbers\u001b[49m\u001b[38;5;241;43m=\u001b[39;49m\u001b[43mnumbers\u001b[49m\u001b[43m,\u001b[49m\u001b[43m \u001b[49m\u001b[43mas_3D\u001b[49m\u001b[38;5;241;43m=\u001b[39;49m\u001b[43mas_3D\u001b[49m\u001b[43m,\u001b[49m\u001b[43m \u001b[49m\u001b[38;5;241;43m*\u001b[39;49m\u001b[38;5;241;43m*\u001b[39;49m\u001b[43mkwargs\u001b[49m\u001b[43m)\u001b[49m\n\u001b[1;32m    277\u001b[0m \u001b[38;5;66;03m# not False required\u001b[39;00m\n\u001b[1;32m    278\u001b[0m \u001b[38;5;28;01mif\u001b[39;00m wrap_lon \u001b[38;5;129;01mis\u001b[39;00m \u001b[38;5;129;01mnot\u001b[39;00m \u001b[38;5;28;01mFalse\u001b[39;00m:\n\u001b[1;32m    279\u001b[0m     \u001b[38;5;66;03m# treat the points at -180°E/0°E and -90°N\u001b[39;00m\n",
      "File \u001b[0;32m~/anaconda3/envs/brightband/lib/python3.11/site-packages/regionmask/core/mask.py:862\u001b[0m, in \u001b[0;36m_mask_rasterize_flip\u001b[0;34m(lon, lat, polygons, numbers, fill, as_3D, **kwargs)\u001b[0m\n\u001b[1;32m    859\u001b[0m split_point \u001b[38;5;241m=\u001b[39m _find_splitpoint(lon)\n\u001b[1;32m    860\u001b[0m flipped_lon \u001b[38;5;241m=\u001b[39m np\u001b[38;5;241m.\u001b[39mhstack((lon[split_point:], lon[:split_point]))\n\u001b[0;32m--> 862\u001b[0m mask \u001b[38;5;241m=\u001b[39m \u001b[43m_mask_rasterize\u001b[49m\u001b[43m(\u001b[49m\n\u001b[1;32m    863\u001b[0m \u001b[43m    \u001b[49m\u001b[43mflipped_lon\u001b[49m\u001b[43m,\u001b[49m\u001b[43m \u001b[49m\u001b[43mlat\u001b[49m\u001b[43m,\u001b[49m\u001b[43m \u001b[49m\u001b[43mpolygons\u001b[49m\u001b[43m,\u001b[49m\u001b[43m \u001b[49m\u001b[43mnumbers\u001b[49m\u001b[38;5;241;43m=\u001b[39;49m\u001b[43mnumbers\u001b[49m\u001b[43m,\u001b[49m\u001b[43m \u001b[49m\u001b[43mas_3D\u001b[49m\u001b[38;5;241;43m=\u001b[39;49m\u001b[43mas_3D\u001b[49m\u001b[43m,\u001b[49m\u001b[43m \u001b[49m\u001b[38;5;241;43m*\u001b[39;49m\u001b[38;5;241;43m*\u001b[39;49m\u001b[43mkwargs\u001b[49m\n\u001b[1;32m    864\u001b[0m \u001b[43m\u001b[49m\u001b[43m)\u001b[49m\n\u001b[1;32m    866\u001b[0m \u001b[38;5;66;03m# revert the mask\u001b[39;00m\n\u001b[1;32m    867\u001b[0m \u001b[38;5;28;01mreturn\u001b[39;00m np\u001b[38;5;241m.\u001b[39mconcatenate((mask[\u001b[38;5;241m.\u001b[39m\u001b[38;5;241m.\u001b[39m\u001b[38;5;241m.\u001b[39m, \u001b[38;5;241m-\u001b[39msplit_point:], mask[\u001b[38;5;241m.\u001b[39m\u001b[38;5;241m.\u001b[39m\u001b[38;5;241m.\u001b[39m, :\u001b[38;5;241m-\u001b[39msplit_point]), axis\u001b[38;5;241m=\u001b[39m\u001b[38;5;241m-\u001b[39m\u001b[38;5;241m1\u001b[39m)\n",
      "File \u001b[0;32m~/anaconda3/envs/brightband/lib/python3.11/site-packages/regionmask/core/mask.py:892\u001b[0m, in \u001b[0;36m_mask_rasterize\u001b[0;34m(lon, lat, polygons, numbers, fill, as_3D, **kwargs)\u001b[0m\n\u001b[1;32m    889\u001b[0m \u001b[38;5;28;01mif\u001b[39;00m as_3D:\n\u001b[1;32m    890\u001b[0m     \u001b[38;5;28;01mreturn\u001b[39;00m _mask_rasterize_3D_internal(lon, lat, polygons, \u001b[38;5;241m*\u001b[39m\u001b[38;5;241m*\u001b[39mkwargs)\n\u001b[0;32m--> 892\u001b[0m \u001b[38;5;28;01mreturn\u001b[39;00m \u001b[43m_mask_rasterize_internal\u001b[49m\u001b[43m(\u001b[49m\u001b[43mlon\u001b[49m\u001b[43m,\u001b[49m\u001b[43m \u001b[49m\u001b[43mlat\u001b[49m\u001b[43m,\u001b[49m\u001b[43m \u001b[49m\u001b[43mpolygons\u001b[49m\u001b[43m,\u001b[49m\u001b[43m \u001b[49m\u001b[43mnumbers\u001b[49m\u001b[43m,\u001b[49m\u001b[43m \u001b[49m\u001b[43mfill\u001b[49m\u001b[38;5;241;43m=\u001b[39;49m\u001b[43mfill\u001b[49m\u001b[43m,\u001b[49m\u001b[43m \u001b[49m\u001b[38;5;241;43m*\u001b[39;49m\u001b[38;5;241;43m*\u001b[39;49m\u001b[43mkwargs\u001b[49m\u001b[43m)\u001b[49m\n",
      "File \u001b[0;32m~/anaconda3/envs/brightband/lib/python3.11/site-packages/regionmask/core/mask.py:949\u001b[0m, in \u001b[0;36m_mask_rasterize_internal\u001b[0;34m(lon, lat, polygons, numbers, fill, **kwargs)\u001b[0m\n\u001b[1;32m    946\u001b[0m lon \u001b[38;5;241m=\u001b[39m lon \u001b[38;5;241m-\u001b[39m \u001b[38;5;241m1\u001b[39m \u001b[38;5;241m*\u001b[39m \u001b[38;5;241m10\u001b[39m\u001b[38;5;241m*\u001b[39m\u001b[38;5;241m*\u001b[39m\u001b[38;5;241m-\u001b[39m\u001b[38;5;241m8\u001b[39m\n\u001b[1;32m    947\u001b[0m lat \u001b[38;5;241m=\u001b[39m lat \u001b[38;5;241m-\u001b[39m \u001b[38;5;241m1\u001b[39m \u001b[38;5;241m*\u001b[39m \u001b[38;5;241m10\u001b[39m\u001b[38;5;241m*\u001b[39m\u001b[38;5;241m*\u001b[39m\u001b[38;5;241m-\u001b[39m\u001b[38;5;241m10\u001b[39m\n\u001b[0;32m--> 949\u001b[0m \u001b[38;5;28;01mreturn\u001b[39;00m \u001b[43m_mask_rasterize_no_offset\u001b[49m\u001b[43m(\u001b[49m\u001b[43mlon\u001b[49m\u001b[43m,\u001b[49m\u001b[43m \u001b[49m\u001b[43mlat\u001b[49m\u001b[43m,\u001b[49m\u001b[43m \u001b[49m\u001b[43mpolygons\u001b[49m\u001b[43m,\u001b[49m\u001b[43m \u001b[49m\u001b[43mnumbers\u001b[49m\u001b[43m,\u001b[49m\u001b[43m \u001b[49m\u001b[43mfill\u001b[49m\u001b[43m,\u001b[49m\u001b[43m \u001b[49m\u001b[38;5;241;43m*\u001b[39;49m\u001b[38;5;241;43m*\u001b[39;49m\u001b[43mkwargs\u001b[49m\u001b[43m)\u001b[49m\n",
      "File \u001b[0;32m~/anaconda3/envs/brightband/lib/python3.11/site-packages/regionmask/core/mask.py:971\u001b[0m, in \u001b[0;36m_mask_rasterize_no_offset\u001b[0;34m(lon, lat, polygons, numbers, fill, dtype, **kwargs)\u001b[0m\n\u001b[1;32m    968\u001b[0m transform \u001b[38;5;241m=\u001b[39m _transform_from_latlon(lon, lat)\n\u001b[1;32m    969\u001b[0m out_shape \u001b[38;5;241m=\u001b[39m (\u001b[38;5;28mlen\u001b[39m(lat), \u001b[38;5;28mlen\u001b[39m(lon))\n\u001b[0;32m--> 971\u001b[0m raster \u001b[38;5;241m=\u001b[39m \u001b[43mfeatures\u001b[49m\u001b[38;5;241;43m.\u001b[39;49m\u001b[43mrasterize\u001b[49m\u001b[43m(\u001b[49m\n\u001b[1;32m    972\u001b[0m \u001b[43m    \u001b[49m\u001b[43mshapes\u001b[49m\u001b[43m,\u001b[49m\n\u001b[1;32m    973\u001b[0m \u001b[43m    \u001b[49m\u001b[43mout_shape\u001b[49m\u001b[38;5;241;43m=\u001b[39;49m\u001b[43mout_shape\u001b[49m\u001b[43m,\u001b[49m\n\u001b[1;32m    974\u001b[0m \u001b[43m    \u001b[49m\u001b[43mfill\u001b[49m\u001b[38;5;241;43m=\u001b[39;49m\u001b[43mfill\u001b[49m\u001b[43m,\u001b[49m\n\u001b[1;32m    975\u001b[0m \u001b[43m    \u001b[49m\u001b[43mtransform\u001b[49m\u001b[38;5;241;43m=\u001b[39;49m\u001b[43mtransform\u001b[49m\u001b[43m,\u001b[49m\n\u001b[1;32m    976\u001b[0m \u001b[43m    \u001b[49m\u001b[43mdtype\u001b[49m\u001b[38;5;241;43m=\u001b[39;49m\u001b[43mdtype\u001b[49m\u001b[43m,\u001b[49m\n\u001b[1;32m    977\u001b[0m \u001b[43m    \u001b[49m\u001b[38;5;241;43m*\u001b[39;49m\u001b[38;5;241;43m*\u001b[39;49m\u001b[43mkwargs\u001b[49m\u001b[43m,\u001b[49m\n\u001b[1;32m    978\u001b[0m \u001b[43m\u001b[49m\u001b[43m)\u001b[49m\n\u001b[1;32m    980\u001b[0m \u001b[38;5;28;01mreturn\u001b[39;00m raster\n",
      "File \u001b[0;32m~/anaconda3/envs/brightband/lib/python3.11/site-packages/rasterio/env.py:413\u001b[0m, in \u001b[0;36mensure_env.<locals>.wrapper\u001b[0;34m(*args, **kwds)\u001b[0m\n\u001b[1;32m    411\u001b[0m \u001b[38;5;28;01melse\u001b[39;00m:\n\u001b[1;32m    412\u001b[0m     \u001b[38;5;28;01mwith\u001b[39;00m Env\u001b[38;5;241m.\u001b[39mfrom_defaults():\n\u001b[0;32m--> 413\u001b[0m         \u001b[38;5;28;01mreturn\u001b[39;00m \u001b[43mf\u001b[49m\u001b[43m(\u001b[49m\u001b[38;5;241;43m*\u001b[39;49m\u001b[43margs\u001b[49m\u001b[43m,\u001b[49m\u001b[43m \u001b[49m\u001b[38;5;241;43m*\u001b[39;49m\u001b[38;5;241;43m*\u001b[39;49m\u001b[43mkwds\u001b[49m\u001b[43m)\u001b[49m\n",
      "File \u001b[0;32m~/anaconda3/envs/brightband/lib/python3.11/site-packages/rasterio/features.py:311\u001b[0m, in \u001b[0;36mrasterize\u001b[0;34m(shapes, out_shape, fill, nodata, masked, out, transform, all_touched, merge_alg, default_value, dtype, skip_invalid, dst_path, dst_kwds)\u001b[0m\n\u001b[1;32m    308\u001b[0m     geom \u001b[38;5;241m=\u001b[39m item\n\u001b[1;32m    309\u001b[0m     value \u001b[38;5;241m=\u001b[39m default_value\n\u001b[0;32m--> 311\u001b[0m geom \u001b[38;5;241m=\u001b[39m \u001b[38;5;28mgetattr\u001b[39m(geom, \u001b[38;5;124m'\u001b[39m\u001b[38;5;124m__geo_interface__\u001b[39m\u001b[38;5;124m'\u001b[39m, \u001b[38;5;28;01mNone\u001b[39;00m) \u001b[38;5;129;01mor\u001b[39;00m geom\n\u001b[1;32m    313\u001b[0m \u001b[38;5;28;01mif\u001b[39;00m is_valid_geom(geom):\n\u001b[1;32m    314\u001b[0m     shape_values\u001b[38;5;241m.\u001b[39mappend(value)\n",
      "File \u001b[0;32m~/anaconda3/envs/brightband/lib/python3.11/site-packages/shapely/geometry/multipolygon.py:96\u001b[0m, in \u001b[0;36mMultiPolygon.__geo_interface__\u001b[0;34m(self)\u001b[0m\n\u001b[1;32m     94\u001b[0m \u001b[38;5;28;01mfor\u001b[39;00m geom \u001b[38;5;129;01min\u001b[39;00m \u001b[38;5;28mself\u001b[39m\u001b[38;5;241m.\u001b[39mgeoms:\n\u001b[1;32m     95\u001b[0m     coords \u001b[38;5;241m=\u001b[39m []\n\u001b[0;32m---> 96\u001b[0m     coords\u001b[38;5;241m.\u001b[39mappend(\u001b[38;5;28mtuple\u001b[39m(geom\u001b[38;5;241m.\u001b[39mexterior\u001b[38;5;241m.\u001b[39mcoords))\n\u001b[1;32m     97\u001b[0m     \u001b[38;5;28;01mfor\u001b[39;00m hole \u001b[38;5;129;01min\u001b[39;00m geom\u001b[38;5;241m.\u001b[39minteriors:\n\u001b[1;32m     98\u001b[0m         coords\u001b[38;5;241m.\u001b[39mappend(\u001b[38;5;28mtuple\u001b[39m(hole\u001b[38;5;241m.\u001b[39mcoords))\n",
      "File \u001b[0;32m~/anaconda3/envs/brightband/lib/python3.11/site-packages/shapely/coords.py:28\u001b[0m, in \u001b[0;36mCoordinateSequence.__iter__\u001b[0;34m(self)\u001b[0m\n\u001b[1;32m     26\u001b[0m \u001b[38;5;28;01mdef\u001b[39;00m \u001b[38;5;21m__iter__\u001b[39m(\u001b[38;5;28mself\u001b[39m):\n\u001b[1;32m     27\u001b[0m     \u001b[38;5;28;01mfor\u001b[39;00m i \u001b[38;5;129;01min\u001b[39;00m \u001b[38;5;28mrange\u001b[39m(\u001b[38;5;28mself\u001b[39m\u001b[38;5;241m.\u001b[39m\u001b[38;5;21m__len__\u001b[39m()):\n\u001b[0;32m---> 28\u001b[0m         \u001b[38;5;28;01myield\u001b[39;00m \u001b[38;5;28mtuple\u001b[39m(\u001b[38;5;28mself\u001b[39m\u001b[38;5;241m.\u001b[39m_coords[i]\u001b[38;5;241m.\u001b[39mtolist())\n",
      "\u001b[0;31mKeyboardInterrupt\u001b[0m: "
     ]
    }
   ],
   "source": [
    "era5_85th = xr.open_zarr('/home/taylor/data/era5_2m_temperature_85th_percentile_1989-2019.zarr', chunks='auto')\n",
    "era5_85th = subset_region_by_event(era5_85th)\n",
    "\n",
    "for json_file in json_list:\n",
    "    fs_ = fsspec.filesystem(\"reference\", fo=json_file, ref_storage_args={'skip_instance_cache':True},\n",
    "                       remote_protocol='gcs', remote_options={'anon':True})\n",
    "    m = fs_.get_mapper(\"\")\n",
    "    ds = xr.open_dataset(m, engine=\"zarr\", backend_kwargs={'consolidated':False}, chunks={})\n",
    "    pangu_subset = subset_region_by_event(pangu_t2c)\n",
    "    era5_pnw_heatwave_2021_subset = subset_region_by_event(era5_pnw_heatwave_2021)\n",
    "    # 1. Generate duration event"
   ]
  },
  {
   "cell_type": "markdown",
   "metadata": {},
   "source": [
    "# Load in Climatology Data"
   ]
  },
  {
   "cell_type": "code",
   "execution_count": null,
   "metadata": {},
   "outputs": [],
   "source": []
  }
 ],
 "metadata": {
  "kernelspec": {
   "display_name": "brightband",
   "language": "python",
   "name": "python3"
  },
  "language_info": {
   "codemirror_mode": {
    "name": "ipython",
    "version": 3
   },
   "file_extension": ".py",
   "mimetype": "text/x-python",
   "name": "python",
   "nbconvert_exporter": "python",
   "pygments_lexer": "ipython3",
   "version": "3.11.8"
  }
 },
 "nbformat": 4,
 "nbformat_minor": 2
}
