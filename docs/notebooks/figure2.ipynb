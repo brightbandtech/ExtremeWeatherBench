{
 "cells": [
  {
   "cell_type": "markdown",
   "id": "0915e674",
   "metadata": {},
   "source": [
    "# EWB paper Figure 2: Observations "
   ]
  },
  {
   "cell_type": "code",
   "execution_count": null,
   "id": "d227d07b",
   "metadata": {
    "vscode": {
     "languageId": "plaintext"
    }
   },
   "outputs": [],
   "source": []
  }
 ],
 "metadata": {
  "language_info": {
   "name": "python"
  }
 },
 "nbformat": 4,
 "nbformat_minor": 5
}
