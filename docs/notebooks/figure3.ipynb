{
 "cells": [
  {
   "cell_type": "markdown",
   "id": "c5215f81",
   "metadata": {},
   "source": [
    "# Code to generate figure 3 for the paper"
   ]
  },
  {
   "cell_type": "code",
   "execution_count": 1,
   "id": "5269e4e1",
   "metadata": {},
   "outputs": [],
   "source": [
    "# setup all the imports\n",
    "import matplotlib.pyplot as plt\n",
    "import numpy as np\n",
    "import seaborn as sns\n",
    "import pandas as pd\n",
    "import yaml\n",
    "import urllib.request\n",
    "import matplotlib.font_manager\n",
    "flist = matplotlib.font_manager.get_font_names()\n",
    "from tempfile import NamedTemporaryFile\n",
    "import urllib\n",
    "import matplotlib.font_manager as fm\n",
    "import matplotlib.pyplot as plt\n",
    "import cartopy.crs as ccrs\n",
    "import cartopy.feature as cfeature\n",
    "from cartopy.mpl.gridliner import LongitudeFormatter, LatitudeFormatter\n",
    "import matplotlib.pyplot as plt\n",
    "from mpl_toolkits.axes_grid1 import make_axes_locatable\n",
    "import seaborn as sns\n",
    "import matplotlib.patches as patches\n",
    "from extremeweatherbench import evaluate, utils, cases, defaults\n",
    "sns.set_theme(style='whitegrid')\n",
    "from shapely.geometry import Polygon\n",
    "import shapely\n",
    "from pathlib import Path\n",
    "\n",
    "# make the basepath - change this to your local path\n",
    "basepath = Path.home() / 'ExtremeWeatherBench' / ''\n",
    "basepath = str(basepath) + '/'"
   ]
  },
  {
   "cell_type": "code",
   "execution_count": 2,
   "id": "5348a418",
   "metadata": {},
   "outputs": [
    {
     "name": "stderr",
     "output_type": "stream",
     "text": [
      "WARNING:extremeweatherbench.utils:This function is deprecated and will be removed in a future release. Please use cases.load_ewb_events_yaml_into_case_collection instead.\n",
      "WARNING:extremeweatherbench.utils:This function is deprecated and will be removed in a future release. Please use cases.read_incoming_yaml instead.\n"
     ]
    }
   ],
   "source": [
    "# load in all of the events in the yaml file\n",
    "case_dict = utils.load_events_yaml()\n",
    "\n",
    "# turn the dictionary into a list of case objects\n",
    "ewb_cases = cases.load_individual_cases(case_dict)\n",
    "\n",
    "# build out all of the expected data to evalate the case\n",
    "# this will not be a 1-1 mapping with ewb_cases because there are multiple data sources to evaluate for some cases\n",
    "# for example, a heat/cold case will have both a case operator for ERA-5 data and GHCN\n",
    "case_operators = cases.build_case_operators(case_dict, defaults.BRIGHTBAND_EVALUATION_OBJECTS)"
   ]
  },
  {
   "cell_type": "code",
   "execution_count": 3,
   "id": "c22a7c8a",
   "metadata": {},
   "outputs": [
    {
     "name": "stderr",
     "output_type": "stream",
     "text": [
      "/home/amy/ExtremeWeatherBench/.venv/lib/python3.13/site-packages/joblib/externals/loky/process_executor.py:752: UserWarning: A worker stopped while some jobs were given to the executor. This can be caused by a too short worker timeout or by a memory leak.\n",
      "  warnings.warn(\n"
     ]
    }
   ],
   "source": [
    "# load in all the case info (note this takes awhile in non-parallel form as it has to run all the target information for each case)\n",
    "# this will return a list of tuples with the case id and the target dataset\n",
    "\n",
    "from joblib import Parallel, delayed\n",
    "\n",
    "case_operators_with_targets_established = list(Parallel(n_jobs=-1)(\n",
    "    delayed(lambda co: (co.case_metadata.case_id_number, evaluate.run_pipeline(co, \"target\")))(case_operator) \n",
    "    for case_operator in case_operators\n",
    "))"
   ]
  },
  {
   "cell_type": "code",
   "execution_count": null,
   "id": "92eaf242",
   "metadata": {},
   "outputs": [],
   "source": []
  }
 ],
 "metadata": {
  "kernelspec": {
   "display_name": "Python 3 (ipykernel)",
   "language": "python",
   "name": "python3"
  },
  "language_info": {
   "codemirror_mode": {
    "name": "ipython",
    "version": 3
   },
   "file_extension": ".py",
   "mimetype": "text/x-python",
   "name": "python",
   "nbconvert_exporter": "python",
   "pygments_lexer": "ipython3",
   "version": "3.13.2"
  }
 },
 "nbformat": 4,
 "nbformat_minor": 5
}
