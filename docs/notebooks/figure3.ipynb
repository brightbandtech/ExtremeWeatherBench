{
 "cells": [
  {
   "cell_type": "markdown",
   "id": "c5215f81",
   "metadata": {},
   "source": [
    "# Code to generate figure 3 for the paper"
   ]
  },
  {
   "cell_type": "code",
   "execution_count": 1,
   "id": "5269e4e1",
   "metadata": {},
   "outputs": [],
   "source": [
    "# setup all the imports\n",
    "import matplotlib.pyplot as plt\n",
    "import numpy as np\n",
    "import seaborn as sns\n",
    "import pandas as pd\n",
    "import yaml\n",
    "import urllib.request\n",
    "import matplotlib.font_manager\n",
    "flist = matplotlib.font_manager.get_font_names()\n",
    "from tempfile import NamedTemporaryFile\n",
    "import urllib\n",
    "import matplotlib.font_manager as fm\n",
    "import matplotlib.pyplot as plt\n",
    "import cartopy.crs as ccrs\n",
    "import cartopy.feature as cfeature\n",
    "from cartopy.mpl.gridliner import LongitudeFormatter, LatitudeFormatter\n",
    "import matplotlib.pyplot as plt\n",
    "from mpl_toolkits.axes_grid1 import make_axes_locatable\n",
    "import seaborn as sns\n",
    "import matplotlib.patches as patches\n",
    "from extremeweatherbench import evaluate, utils, cases, defaults\n",
    "sns.set_theme(style='whitegrid')\n",
    "from shapely.geometry import Polygon\n",
    "import shapely\n",
    "from pathlib import Path\n",
    "\n",
    "# make the basepath - change this to your local path\n",
    "basepath = Path.home() / 'ExtremeWeatherBench' / ''\n",
    "basepath = str(basepath) + '/'"
   ]
  },
  {
   "cell_type": "code",
   "execution_count": 2,
   "id": "5348a418",
   "metadata": {},
   "outputs": [
    {
     "name": "stderr",
     "output_type": "stream",
     "text": [
      "This function is deprecated and will be removed in a future release. Please use cases.load_ewb_events_yaml_into_case_collection instead.\n",
      "This function is deprecated and will be removed in a future release. Please use cases.read_incoming_yaml instead.\n"
     ]
    }
   ],
   "source": [
    "# load in all of the events in the yaml file\n",
    "case_dict = utils.load_events_yaml()\n",
    "\n",
    "# turn the dictionary into a list of case objects\n",
    "ewb_cases = cases.load_individual_cases(case_dict)\n",
    "\n",
    "# build out all of the expected data to evalate the case\n",
    "# this will not be a 1-1 mapping with ewb_cases because there are multiple data sources to evaluate for some cases\n",
    "# for example, a heat/cold case will have both a case operator for ERA-5 data and GHCN\n",
    "case_operators = cases.build_case_operators(case_dict, defaults.BRIGHTBAND_EVALUATION_OBJECTS)"
   ]
  },
  {
   "cell_type": "code",
   "execution_count": 3,
   "id": "c22a7c8a",
   "metadata": {},
   "outputs": [
    {
     "name": "stderr",
     "output_type": "stream",
     "text": [
      "/home/amy/ExtremeWeatherBench/.venv/lib/python3.13/site-packages/joblib/externals/loky/process_executor.py:752: UserWarning: A worker stopped while some jobs were given to the executor. This can be caused by a too short worker timeout or by a memory leak.\n",
      "  warnings.warn(\n"
     ]
    }
   ],
   "source": [
    "# load in all the case info (note this takes awhile in non-parallel form as it has to run all the target information for each case)\n",
    "# this will return a list of tuples with the case id and the target dataset\n",
    "\n",
    "from joblib import Parallel, delayed\n",
    "\n",
    "case_operators_with_targets_established = list(Parallel(n_jobs=-1)(\n",
    "    delayed(lambda co: (co.case_metadata.case_id_number, evaluate.run_pipeline(co, \"target\")))(case_operator) \n",
    "    for case_operator in case_operators\n",
    "))"
   ]
  },
  {
   "cell_type": "code",
   "execution_count": 6,
   "id": "92eaf242",
   "metadata": {},
   "outputs": [
    {
     "name": "stdout",
     "output_type": "stream",
     "text": [
      "IndividualCase(case_id_number=1, title='2021 Pacific Northwest', start_date=datetime.datetime(2021, 6, 20, 0, 0), end_date=datetime.datetime(2021, 7, 3, 0, 0), location=CenteredRegion(latitude=47.6062, longitude=237.6679, bounding_box_degrees=5), event_type='heat_wave')\n",
      "IndividualCase(case_id_number=2, title='2022 Upper Midwest', start_date=datetime.datetime(2022, 5, 7, 0, 0), end_date=datetime.datetime(2022, 5, 17, 0, 0), location=CenteredRegion(latitude=41.8781, longitude=272.3702, bounding_box_degrees=5), event_type='heat_wave')\n",
      "IndividualCase(case_id_number=3, title='2022 California', start_date=datetime.datetime(2022, 6, 7, 0, 0), end_date=datetime.datetime(2022, 6, 15, 0, 0), location=CenteredRegion(latitude=34.0522, longitude=241.7563, bounding_box_degrees=5), event_type='heat_wave')\n",
      "IndividualCase(case_id_number=4, title='2022 Texas', start_date=datetime.datetime(2022, 6, 30, 0, 0), end_date=datetime.datetime(2022, 7, 18, 0, 0), location=CenteredRegion(latitude=32.7767, longitude=263.203, bounding_box_degrees=5), event_type='heat_wave')\n",
      "IndividualCase(case_id_number=5, title='2023 Pacific Northwest', start_date=datetime.datetime(2023, 5, 10, 0, 0), end_date=datetime.datetime(2023, 5, 23, 0, 0), location=CenteredRegion(latitude=47.6062, longitude=237.6679, bounding_box_degrees=5), event_type='heat_wave')\n",
      "IndividualCase(case_id_number=6, title='2022 Mid-Atlantic', start_date=datetime.datetime(2022, 5, 17, 0, 0), end_date=datetime.datetime(2022, 5, 24, 0, 0), location=CenteredRegion(latitude=39.2904, longitude=283.38779999999997, bounding_box_degrees=5), event_type='heat_wave')\n",
      "IndividualCase(case_id_number=7, title='2023 Australia', start_date=datetime.datetime(2023, 11, 18, 0, 0), end_date=datetime.datetime(2023, 11, 28, 0, 0), location=CenteredRegion(latitude=-31.9505, longitude=115.8605, bounding_box_degrees=5), event_type='heat_wave')\n",
      "IndividualCase(case_id_number=8, title='2023 Ireland', start_date=datetime.datetime(2023, 9, 2, 0, 0), end_date=datetime.datetime(2023, 9, 13, 0, 0), location=CenteredRegion(latitude=53.1424, longitude=352.3079, bounding_box_degrees=5), event_type='heat_wave')\n",
      "IndividualCase(case_id_number=9, title='2023 Italy', start_date=datetime.datetime(2023, 7, 7, 0, 0), end_date=datetime.datetime(2023, 7, 27, 0, 0), location=CenteredRegion(latitude=41.9028, longitude=12.4964, bounding_box_degrees=5), event_type='heat_wave')\n",
      "IndividualCase(case_id_number=10, title='2023 SW Europe', start_date=datetime.datetime(2023, 8, 17, 0, 0), end_date=datetime.datetime(2023, 8, 28, 0, 0), location=CenteredRegion(latitude=40.4637, longitude=356.2508, bounding_box_degrees=5), event_type='heat_wave')\n",
      "IndividualCase(case_id_number=11, title='2023 South America', start_date=datetime.datetime(2023, 7, 29, 0, 0), end_date=datetime.datetime(2023, 8, 4, 0, 0), location=CenteredRegion(latitude=-34.6037, longitude=301.6184, bounding_box_degrees=5), event_type='heat_wave')\n",
      "IndividualCase(case_id_number=12, title='2023 China (Shanghai)', start_date=datetime.datetime(2023, 5, 24, 0, 0), end_date=datetime.datetime(2023, 6, 1, 0, 0), location=CenteredRegion(latitude=31.2304, longitude=121.4737, bounding_box_degrees=5), event_type='heat_wave')\n",
      "IndividualCase(case_id_number=13, title='2023 China (Yunnan Province)', start_date=datetime.datetime(2023, 4, 14, 0, 0), end_date=datetime.datetime(2023, 4, 23, 0, 0), location=CenteredRegion(latitude=25.0458, longitude=102.71, bounding_box_degrees=5), event_type='heat_wave')\n",
      "IndividualCase(case_id_number=14, title='2023 Algeria', start_date=datetime.datetime(2023, 7, 5, 0, 0), end_date=datetime.datetime(2023, 7, 27, 0, 0), location=CenteredRegion(latitude=36.7372, longitude=3.0869, bounding_box_degrees=5), event_type='heat_wave')\n",
      "IndividualCase(case_id_number=15, title='2023 Iberian Peninsula', start_date=datetime.datetime(2023, 4, 22, 0, 0), end_date=datetime.datetime(2023, 5, 1, 0, 0), location=CenteredRegion(latitude=41.1496, longitude=352.389, bounding_box_degrees=5), event_type='heat_wave')\n",
      "IndividualCase(case_id_number=16, title='2023 Southeast Asia', start_date=datetime.datetime(2023, 4, 16, 0, 0), end_date=datetime.datetime(2023, 4, 22, 0, 0), location=BoundingBoxRegion(latitude_min=9.0, latitude_max=31.5, longitude_min=61.5, longitude_max=113.75), event_type='heat_wave')\n",
      "IndividualCase(case_id_number=17, title='2023 India', start_date=datetime.datetime(2023, 2, 15, 0, 0), end_date=datetime.datetime(2023, 3, 1, 0, 0), location=CenteredRegion(latitude=28.6139, longitude=77.209, bounding_box_degrees=5), event_type='heat_wave')\n",
      "IndividualCase(case_id_number=18, title='2021 Western Russia', start_date=datetime.datetime(2021, 6, 18, 0, 0), end_date=datetime.datetime(2021, 6, 30, 0, 0), location=CenteredRegion(latitude=55.7558, longitude=37.6173, bounding_box_degrees=5), event_type='heat_wave')\n",
      "IndividualCase(case_id_number=19, title='2022 Germany', start_date=datetime.datetime(2022, 12, 23, 0, 0), end_date=datetime.datetime(2022, 12, 31, 0, 0), location=CenteredRegion(latitude=52.52, longitude=13.405, bounding_box_degrees=5), event_type='heat_wave')\n",
      "IndividualCase(case_id_number=20, title='2022 UK (August)', start_date=datetime.datetime(2022, 8, 8, 0, 0), end_date=datetime.datetime(2022, 8, 16, 0, 0), location=CenteredRegion(latitude=51.5074, longitude=359.8722, bounding_box_degrees=5), event_type='heat_wave')\n",
      "IndividualCase(case_id_number=21, title='2022 UK (July)', start_date=datetime.datetime(2022, 7, 15, 0, 0), end_date=datetime.datetime(2022, 7, 23, 0, 0), location=CenteredRegion(latitude=51.5074, longitude=359.8722, bounding_box_degrees=5), event_type='heat_wave')\n",
      "IndividualCase(case_id_number=22, title='2022 France', start_date=datetime.datetime(2022, 6, 9, 0, 0), end_date=datetime.datetime(2022, 6, 21, 0, 0), location=CenteredRegion(latitude=43.4832, longitude=358.4414, bounding_box_degrees=5), event_type='heat_wave')\n",
      "IndividualCase(case_id_number=23, title='2022 Japan', start_date=datetime.datetime(2022, 6, 20, 0, 0), end_date=datetime.datetime(2022, 7, 5, 0, 0), location=CenteredRegion(latitude=35.6895, longitude=139.6917, bounding_box_degrees=5), event_type='heat_wave')\n",
      "IndividualCase(case_id_number=24, title='2022 India', start_date=datetime.datetime(2022, 4, 24, 0, 0), end_date=datetime.datetime(2022, 5, 4, 0, 0), location=CenteredRegion(latitude=28.2769, longitude=68.4376, bounding_box_degrees=5), event_type='heat_wave')\n",
      "IndividualCase(case_id_number=25, title='2022 East Antarctica', start_date=datetime.datetime(2022, 3, 12, 0, 0), end_date=datetime.datetime(2022, 3, 26, 0, 0), location=CenteredRegion(latitude=-75.1, longitude=123.35, bounding_box_degrees=5), event_type='heat_wave')\n",
      "IndividualCase(case_id_number=26, title='2022 West Australia', start_date=datetime.datetime(2022, 1, 15, 0, 0), end_date=datetime.datetime(2022, 1, 25, 0, 0), location=CenteredRegion(latitude=-31.9505, longitude=115.8605, bounding_box_degrees=5), event_type='heat_wave')\n",
      "IndividualCase(case_id_number=27, title='2021 Canada Plains', start_date=datetime.datetime(2021, 5, 30, 0, 0), end_date=datetime.datetime(2021, 6, 9, 0, 0), location=CenteredRegion(latitude=49.0, longitude=262.43330000000003, bounding_box_degrees=5), event_type='heat_wave')\n",
      "IndividualCase(case_id_number=28, title='2021 New Zealand', start_date=datetime.datetime(2021, 1, 12, 18, 0), end_date=datetime.datetime(2021, 1, 18, 18, 0), location=CenteredRegion(latitude=-43.8983, longitude=171.731, bounding_box_degrees=5), event_type='heat_wave')\n",
      "IndividualCase(case_id_number=29, title='2020 Australia', start_date=datetime.datetime(2020, 11, 25, 0, 0), end_date=datetime.datetime(2020, 12, 1, 0, 0), location=CenteredRegion(latitude=-33.8245, longitude=150.9448, bounding_box_degrees=5), event_type='heat_wave')\n",
      "IndividualCase(case_id_number=72, title='May 2024 Texas', start_date=datetime.datetime(2024, 5, 25, 0, 0), end_date=datetime.datetime(2024, 5, 31, 0, 0), location=CenteredRegion(latitude=25.9017, longitude=262.50260000000003, bounding_box_degrees=5), event_type='heat_wave')\n",
      "IndividualCase(case_id_number=73, title='June 2024 Northeast US', start_date=datetime.datetime(2024, 6, 17, 0, 0), end_date=datetime.datetime(2024, 6, 23, 0, 0), location=CenteredRegion(latitude=41.8781, longitude=286.771, bounding_box_degrees=6), event_type='heat_wave')\n",
      "IndividualCase(case_id_number=74, title='July 2024 Southwest US', start_date=datetime.datetime(2024, 7, 4, 0, 0), end_date=datetime.datetime(2024, 7, 10, 0, 0), location=CenteredRegion(latitude=33.7701, longitude=243.78539999999998, bounding_box_degrees=6), event_type='heat_wave')\n",
      "IndividualCase(case_id_number=75, title='July 2024 Northeast US', start_date=datetime.datetime(2024, 7, 7, 0, 0), end_date=datetime.datetime(2024, 7, 13, 0, 0), location=CenteredRegion(latitude=40.7128, longitude=285.994, bounding_box_degrees=6), event_type='heat_wave')\n",
      "IndividualCase(case_id_number=76, title='July 2024 Mid-Atlantic US', start_date=datetime.datetime(2024, 7, 15, 0, 0), end_date=datetime.datetime(2024, 7, 21, 0, 0), location=CenteredRegion(latitude=39.9526, longitude=284.8348, bounding_box_degrees=6), event_type='heat_wave')\n",
      "IndividualCase(case_id_number=77, title='August 2024 Midwest US', start_date=datetime.datetime(2024, 8, 25, 0, 0), end_date=datetime.datetime(2024, 8, 31, 0, 0), location=CenteredRegion(latitude=40.1106, longitude=271.79269999999997, bounding_box_degrees=5), event_type='heat_wave')\n",
      "IndividualCase(case_id_number=78, title='July 2024 Antarctica', start_date=datetime.datetime(2024, 7, 1, 0, 0), end_date=datetime.datetime(2024, 7, 31, 0, 0), location=CenteredRegion(latitude=-75.0, longitude=15.0, bounding_box_degrees=5), event_type='heat_wave')\n",
      "IndividualCase(case_id_number=79, title='August 2024 Canada', start_date=datetime.datetime(2024, 8, 9, 0, 0), end_date=datetime.datetime(2024, 8, 15, 0, 0), location=CenteredRegion(latitude=67.0, longitude=248.0, bounding_box_degrees=5), event_type='heat_wave')\n",
      "IndividualCase(case_id_number=80, title='August 2024 Australia', start_date=datetime.datetime(2024, 8, 22, 0, 0), end_date=datetime.datetime(2024, 8, 30, 0, 0), location=CenteredRegion(latitude=-20.0, longitude=120.0, bounding_box_degrees=5), event_type='heat_wave')\n",
      "IndividualCase(case_id_number=81, title='July/August 2024 Japan', start_date=datetime.datetime(2024, 7, 25, 0, 0), end_date=datetime.datetime(2024, 8, 5, 0, 0), location=CenteredRegion(latitude=36.0, longitude=138.0, bounding_box_degrees=6), event_type='heat_wave')\n",
      "IndividualCase(case_id_number=82, title='June 2024 Saudi Arabia', start_date=datetime.datetime(2024, 6, 16, 0, 0), end_date=datetime.datetime(2024, 6, 22, 0, 0), location=CenteredRegion(latitude=24.0, longitude=45.0, bounding_box_degrees=6), event_type='heat_wave')\n",
      "IndividualCase(case_id_number=83, title='August 2024 Europe', start_date=datetime.datetime(2024, 8, 10, 0, 0), end_date=datetime.datetime(2024, 8, 16, 0, 0), location=CenteredRegion(latitude=48.3794, longitude=10.8978, bounding_box_degrees=10), event_type='heat_wave')\n",
      "IndividualCase(case_id_number=84, title='July 2024 Ukraine', start_date=datetime.datetime(2024, 7, 12, 0, 0), end_date=datetime.datetime(2024, 7, 18, 0, 0), location=CenteredRegion(latitude=50.4501, longitude=30.5234, bounding_box_degrees=5), event_type='heat_wave')\n",
      "IndividualCase(case_id_number=85, title='June 2024 Europe', start_date=datetime.datetime(2024, 6, 20, 0, 0), end_date=datetime.datetime(2024, 6, 30, 0, 0), location=CenteredRegion(latitude=52.3676, longitude=4.9041, bounding_box_degrees=6), event_type='heat_wave')\n",
      "IndividualCase(case_id_number=86, title='May 2024 Central Mexico', start_date=datetime.datetime(2024, 5, 23, 0, 0), end_date=datetime.datetime(2024, 5, 31, 0, 0), location=CenteredRegion(latitude=19.4326, longitude=260.8668, bounding_box_degrees=5), event_type='heat_wave')\n",
      "IndividualCase(case_id_number=87, title='May 2024 Pakistan/India', start_date=datetime.datetime(2024, 5, 23, 0, 0), end_date=datetime.datetime(2024, 5, 31, 0, 0), location=CenteredRegion(latitude=34.0, longitude=76.0, bounding_box_degrees=5), event_type='heat_wave')\n",
      "IndividualCase(case_id_number=88, title='August 2023 Chile', start_date=datetime.datetime(2023, 8, 1, 0, 0), end_date=datetime.datetime(2023, 8, 7, 0, 0), location=CenteredRegion(latitude=-33.4489, longitude=289.3307, bounding_box_degrees=5), event_type='heat_wave')\n"
     ]
    }
   ],
   "source": [
    "for indiv_case in ewb_cases.cases:\n",
    "    indiv_event_type = indiv_case.event_type\n",
    "    if (indiv_event_type == 'heat_wave'):\n",
    "        print(indiv_case)"
   ]
  },
  {
   "cell_type": "code",
   "execution_count": null,
   "id": "82bff060",
   "metadata": {},
   "outputs": [],
   "source": []
  }
 ],
 "metadata": {
  "kernelspec": {
   "display_name": "Python 3 (ipykernel)",
   "language": "python",
   "name": "python3"
  },
  "language_info": {
   "codemirror_mode": {
    "name": "ipython",
    "version": 3
   },
   "file_extension": ".py",
   "mimetype": "text/x-python",
   "name": "python",
   "nbconvert_exporter": "python",
   "pygments_lexer": "ipython3",
   "version": "3.13.2"
  }
 },
 "nbformat": 4,
 "nbformat_minor": 5
}
