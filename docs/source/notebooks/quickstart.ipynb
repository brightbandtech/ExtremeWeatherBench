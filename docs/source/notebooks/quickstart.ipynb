{
 "cells": [
  {
   "cell_type": "markdown",
   "metadata": {},
   "source": [
    "# Quickstart\n",
    "\n",
    "Use this notebook as an example for a basic runthrough of ExtremeWeatherBench cases."
   ]
  },
  {
   "cell_type": "code",
   "execution_count": 1,
   "metadata": {},
   "outputs": [],
   "source": [
    "from extremeweatherbench import config, events, evaluate\n",
    "import logging\n",
    "import sys\n",
    "from distributed import Client\n",
    "\n",
    "# Suppress annoying logging messages\n",
    "logging.getLogger('botocore.httpchecksum').setLevel(logging.WARNING)\n"
   ]
  },
  {
   "cell_type": "code",
   "execution_count": null,
   "metadata": {},
   "outputs": [],
   "source": [
    "# Set the event type(s) to evaluate\n",
    "event_list = [events.HeatWave]\n",
    "\n",
    "# Create a configuration to use in the evaluation\n",
    "# Feel free to try others including HRES at \n",
    "# gs://weatherbench2/datasets/hres/2016-2022-0012-1440x721.zarr\n",
    "heatwave_configuration = config.Config(\n",
    "    event_types=event_list,\n",
    "    forecast_dir='gs://extremeweatherbench/FOUR_v200_GFS.parq',\n",
    "    )\n",
    "\n",
    "# Create a schema configuration to align the forecast data with observation data present in EWB\n",
    "# The defaults in ForecastSchemaConfig all work for the FOUR_v200_GFS model above except for the surface_air_temperature variable\n",
    "# which is t2 in the forecast data.\n",
    "default_forecast_config = config.ForecastSchemaConfig(surface_air_temperature='t2')"
   ]
  },
  {
   "cell_type": "code",
   "execution_count": null,
   "metadata": {},
   "outputs": [],
   "source": [
    "# Load a dask cluster to parallelize the evaluation. The larger the better, but ~10 workers on an 8 vCPU machine is a good start.\n",
    "client = Client(n_workers=10)\n",
    "\n",
    "# Set logging to info to see the progress of the evaluation\n",
    "logging.basicConfig(stream=sys.stdout, level=logging.INFO)"
   ]
  },
  {
   "cell_type": "code",
   "execution_count": null,
   "metadata": {},
   "outputs": [],
   "source": [
    "# Run the evaluation given the heatwave configuration and forecast schema configuration\n",
    "cases = evaluate.evaluate(eval_config=heatwave_configuration, forecast_schema_config=default_forecast_config)"
   ]
  }
 ],
 "metadata": {
  "kernelspec": {
   "display_name": ".venv",
   "language": "python",
   "name": "python3"
  },
  "language_info": {
   "codemirror_mode": {
    "name": "ipython",
    "version": 3
   },
   "file_extension": ".py",
   "mimetype": "text/x-python",
   "name": "python",
   "nbconvert_exporter": "python",
   "pygments_lexer": "ipython3",
   "version": "3.11.11"
  }
 },
 "nbformat": 4,
 "nbformat_minor": 2
}
