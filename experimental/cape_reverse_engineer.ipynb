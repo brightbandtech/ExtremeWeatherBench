{
 "cells": [
  {
   "cell_type": "code",
   "execution_count": 1,
   "metadata": {},
   "outputs": [],
   "source": [
    "import numpy as np\n",
    "import metpy\n",
    "\n",
    "from metpy.calc import dewpoint_from_relative_humidity, mixed_layer_cape_cin\n",
    "from metpy.units import units\n",
    "import scipy.optimize as so\n",
    "import scipy.integrate as si\n",
    "np.set_printoptions(suppress=True)"
   ]
  },
  {
   "cell_type": "markdown",
   "metadata": {},
   "source": [
    "# Constants:"
   ]
  },
  {
   "cell_type": "code",
   "execution_count": 2,
   "metadata": {},
   "outputs": [],
   "source": [
    "gamma = 6.5 # K/km\n",
    "p0 = 1000 # hPa\n",
    "p0_stp = 1013.25 # hPa\n",
    "t0 = 288. # K\n",
    "Rd = 287.05 # J/kg/K\n",
    "depth = 100 # hPa\n",
    "epsilon = 0.62196\n",
    "sat_press_0c = 6.112 # hPa\n",
    "kappa = 0.285714\n",
    "g = 9.81 # m/s^2\n",
    "Lv = 2500840 # J/kg\n",
    "Cp_d = 1004.6662184201462 # J/kgK"
   ]
  },
  {
   "cell_type": "markdown",
   "metadata": {},
   "source": [
    "# Function Definitions:"
   ]
  },
  {
   "cell_type": "code",
   "execution_count": 3,
   "metadata": {},
   "outputs": [],
   "source": [
    "def mixing_ratio(partial_press, total_press):\n",
    "    return epsilon * partial_press / (total_press - partial_press)\n",
    "\n",
    "def vapor_pressure(pressure, mixing_ratio):\n",
    "    # pressure in hPa, mixing_ratio in kg/kg\n",
    "    return pressure * mixing_ratio / (epsilon + mixing_ratio)\n",
    "\n",
    "def saturation_vapor_pressure(temperature):\n",
    "    # temperature in celsius \n",
    "    return sat_press_0c * np.exp(17.67 * temperature / (temperature + 243.5))\n",
    "\n",
    "def exner_function(pressure):\n",
    "    # pressure in hPa\n",
    "    return (pressure / p0)**kappa\n",
    "\n",
    "def get_pressure_height(pressure):\n",
    "    pressure = np.atleast_1d(pressure)\n",
    "    height =  (t0 / gamma) * (1 - (pressure / p0)**(Rd * gamma / g))\n",
    "    return pressure, height\n",
    "\n",
    "def potential_temperature(temperature, pressure):\n",
    "    # assume incoming temp in celsius, output in kelvin\n",
    "    theta = (temperature+273.15)/ exner_function(pressure)\n",
    "    return theta\n",
    "\n",
    "def virtual_temperature(temperature, mixing_ratio):\n",
    "    # temperature in kelvin, mixing_ratio in kg/kg\n",
    "    return temperature * (1 + 0.61 * mixing_ratio) / (1 + mixing_ratio)\n",
    "\n",
    "def dewpoint(vapor_pressure):\n",
    "    val = np.log(vapor_pressure / sat_press_0c)\n",
    "    return 243.5 * val / (17.67 - val)\n",
    "\n",
    "def dry_lapse(pressure, temperature):\n",
    "    return temperature * (pressure / pressure[0])**kappa\n",
    "\n",
    "def saturation_mixing_ratio(pressure, temperature):\n",
    "    return mixing_ratio(saturation_vapor_pressure(temperature), pressure)"
   ]
  },
  {
   "cell_type": "markdown",
   "metadata": {},
   "source": [
    "cape_cin steps:\n",
    "1. calculate lcl using lowest level (p, t, td)\n",
    "2. get the mixing ratio of the parcel to get the parcel profile\n",
    "3. calculate the virtual temperature from (p, t, td)\n",
    "4. get the parcel profile through using the virtual temperature function (?) using parcel_profile and parcel_mixing_ratio\n",
    "5. calculate lfc pressure using (p, t_v, td, new_parcel_profile, bottom \"which_lfc\")\n",
    "6. calculate el pressure using (p, t_v, td, new_parcel_profile, top \"which_el\"), if nan, use top of pressure\n",
    "7. find y = (parcel_profile - temperature) in kelvin\n",
    "8. Use pressure and y to find zero crossings, returning x and y\n",
    "9. Using data between LFC and EL, use Rd * trapezoid integration method of y and log(x) to get CAPE\n",
    "10. Can do CIN in the future with this method by using between surface and LFC instead (negative value or 0 expected)"
   ]
  },
  {
   "cell_type": "markdown",
   "metadata": {},
   "source": [
    "### Initial datasets:"
   ]
  },
  {
   "cell_type": "code",
   "execution_count": 4,
   "metadata": {},
   "outputs": [],
   "source": [
    "p = [1008., 1000., 950., 900., 850., 800., 750., 700., 650., 600.,\n",
    "550., 500., 450., 400., 350., 300., 250., 200.,\n",
    "175., 150., 125., 100., 80., 70., 60., 50.,\n",
    "40., 30., 25., 20.] * units.hPa\n",
    "# temperature\n",
    "T = [29.3, 28.1, 25.5, 20.9, 18.4, 15.9, 13.1, 10.1, 6.7, 3.1,\n",
    "-0.5, -4.5, -9.0, -14.8, -21.5, -29.7, -40.0, -52.4,\n",
    "-59.2, -66.5, -74.1, -78.5, -76.0, -71.6, -66.7, -61.3,\n",
    "-56.3, -51.7, -50.7, -47.5] * units.degC\n",
    "# relative humidity\n",
    "rh = [.85, .75, .56, .39, .82, .72, .75, .86, .65, .22, .52,\n",
    " .66, .64, .20, .05, .75, .76, .45, .25, .48, .76, .88,\n",
    " .56, .88, .39, .67, .15, .04, .94, .35] * units.dimensionless\n",
    "# calculate dewpoint\n",
    "Td = dewpoint_from_relative_humidity(T, rh)\n"
   ]
  },
  {
   "cell_type": "code",
   "execution_count": 5,
   "metadata": {},
   "outputs": [
    {
     "name": "stdout",
     "output_type": "stream",
     "text": [
      "Shape of the 5D array: (2, 180, 360, 30, 3)\n"
     ]
    }
   ],
   "source": [
    "# Convert p and T to numpy arrays for easier manipulation\n",
    "p_array = p.magnitude\n",
    "T_array = T.magnitude\n",
    "Td_array = Td.magnitude\n",
    "\n",
    "# Initialize the 5D array with zeros\n",
    "data_5d = np.zeros((2, 180, 360, len(p), 3))\n",
    "\n",
    "# Fill the array with the same values for all grid points\n",
    "# This is just sample data - in a real application, values would vary by location\n",
    "for i in range(2):  # Loop through first dimension\n",
    "    for j in range(180):  # Loop through latitude dimension\n",
    "        for k in range(360):  # Loop through longitude dimension\n",
    "            # Assign pressure values to the first channel of the last dimension\n",
    "            data_5d[i, j, k, :, 0] = p_array\n",
    "            # Assign temperature values to the second channel of the last dimension\n",
    "            data_5d[i, j, k, :, 1] = T_array\n",
    "            # Assign dewpoint values to the third channel of the last dimension\n",
    "            data_5d[i, j, k, :, 2] = Td_array\n",
    "\n",
    "# Print the shape to confirm\n",
    "print(f\"Shape of the 5D array: {data_5d.shape}\")"
   ]
  },
  {
   "cell_type": "markdown",
   "metadata": {},
   "source": [
    "## Mixed parcel reverse engineer"
   ]
  },
  {
   "cell_type": "markdown",
   "metadata": {},
   "source": [
    "### Metpy:"
   ]
  },
  {
   "cell_type": "code",
   "execution_count": 6,
   "metadata": {},
   "outputs": [],
   "source": [
    "expected_parcel_pressure, expected_parcel_temp, expected_parcel_dewpoint = metpy.calc.mixed_parcel(p, T, Td)\n"
   ]
  },
  {
   "cell_type": "markdown",
   "metadata": {},
   "source": [
    "### Rewritten test:"
   ]
  },
  {
   "cell_type": "code",
   "execution_count": 7,
   "metadata": {},
   "outputs": [
    {
     "name": "stdout",
     "output_type": "stream",
     "text": [
      "[301.7622202  301.25       303.05900772 303.03635908 305.40704209\n",
      " 308.07859228 310.77225675 313.63720657 316.5035492  319.65947389\n",
      " 323.43537383 327.48795335 331.84299536 335.66456569 339.6746038\n",
      " 343.40258237 346.45943129 349.62801786 352.03587038 355.33474197\n",
      " 360.56837652 375.81006569 405.6946951  430.87813976 461.2264245\n",
      " 498.59848266 543.96437507 603.09185398 638.20966737 690.00915612]\n"
     ]
    }
   ],
   "source": [
    "# Calculate theta, assume hPa:\n",
    "theta = potential_temperature(T_array, p_array)\n",
    "theta_mp = metpy.calc.potential_temperature(p, T)\n",
    "print(theta)\n",
    "# Calculate saturation mixing ratio:\n",
    "es = saturation_vapor_pressure(Td_array)\n",
    "mixing_ratio_g_g = mixing_ratio(es, p_array)"
   ]
  },
  {
   "cell_type": "markdown",
   "metadata": {},
   "source": [
    "#### Mixed Layer:"
   ]
  },
  {
   "cell_type": "markdown",
   "metadata": {},
   "source": [
    "##### Metpy:"
   ]
  },
  {
   "cell_type": "code",
   "execution_count": 8,
   "metadata": {},
   "outputs": [],
   "source": [
    "output= metpy.calc.mixed_layer(p, theta_mp, mixing_ratio_g_g*metpy.units.units.dimensionless, depth=100*metpy.units.units.hPa)\n",
    "depth_mp = 100*metpy.units.units.hPa"
   ]
  },
  {
   "cell_type": "markdown",
   "metadata": {},
   "source": [
    "##### Rewritten Test:"
   ]
  },
  {
   "cell_type": "code",
   "execution_count": 9,
   "metadata": {},
   "outputs": [
    {
     "name": "stdout",
     "output_type": "stream",
     "text": [
      "expected: [<Quantity(302.47855, 'kelvin')>, <Quantity(0.0133943232, 'dimensionless')>]\n",
      "actual: [np.float64(302.47854625268184), np.float64(0.013394323196384561)]\n"
     ]
    }
   ],
   "source": [
    "# get_layer: pressure, theta, mixing_ratio_g_kg, p_array[0], no height, no depth (ml is 100 hpa), no interpolate\n",
    "\n",
    "bottom_pressure, bottom_height = get_pressure_height(np.atleast_1d(p_array[0]))\n",
    "top = bottom_pressure - depth # hPa\n",
    "top_pressure, top_height = get_pressure_height(top)\n",
    "\n",
    "# Subset pressure levels between bottom and top with some margin\n",
    "# Add a small margin to ensure we capture the full layer\n",
    "pressure_mask = (p_array >= (top_pressure[0])) & (p_array <= (bottom_pressure[0]))\n",
    "\n",
    "p_interp = p_array[pressure_mask]\n",
    "if not np.any(np.isclose(top_pressure, p_interp)):\n",
    "        p_interp = np.sort(np.append(p_interp, top_pressure))\n",
    "if not np.any(np.isclose(bottom_pressure, p_interp)):\n",
    "        p_interp = np.sort(np.append(p_interp, bottom_pressure))\n",
    "\n",
    "\n",
    "p_interp = p_interp[::-1]\n",
    "layer_depth = abs(p_interp[0] - p_interp[-1])\n",
    "interps = []\n",
    "ret = []\n",
    "for vars in [theta, mixing_ratio_g_g]:\n",
    "    vars_interp = metpy.calc.tools.log_interpolate_1d(p_interp, p_array, vars) # need to get out of metpy\n",
    "    interps.append(vars_interp)\n",
    "    integration = np.trapezoid(vars_interp, p_interp)/-layer_depth\n",
    "    ret.append(integration)\n",
    "\n",
    "interp_theta = interps[0]\n",
    "interp_mixing_ratio = interps[1]\n",
    "mean_theta = ret[0]\n",
    "mean_mixing_ratio = ret[1]\n",
    "\n",
    "print(f'expected: {output}')\n",
    "print(f'actual: {ret}' )"
   ]
  },
  {
   "cell_type": "markdown",
   "metadata": {},
   "source": [
    "#### Rest of mixed_parcel:"
   ]
  },
  {
   "cell_type": "code",
   "execution_count": 10,
   "metadata": {},
   "outputs": [
    {
     "name": "stdout",
     "output_type": "stream",
     "text": [
      "1008.0\n",
      "30.017958708208937\n",
      "18.474902116257926\n"
     ]
    }
   ],
   "source": [
    "theta_back_to_temp = (mean_theta) * exner_function(p_array[0])\n",
    "\n",
    "vapor_pres = vapor_pressure(p_array[0], mean_mixing_ratio)\n",
    "vapor_pres_back_to_dewpoint = dewpoint(vapor_pres)\n",
    "\n",
    "print(p_array[0])\n",
    "print(theta_back_to_temp - 273.15)\n",
    "print(vapor_pres_back_to_dewpoint)\n"
   ]
  },
  {
   "cell_type": "code",
   "execution_count": 11,
   "metadata": {},
   "outputs": [
    {
     "name": "stdout",
     "output_type": "stream",
     "text": [
      "1008.0 hectopascal\n",
      "30.017963177354034 degree_Celsius\n",
      "18.47490211625791 degree_Celsius\n"
     ]
    }
   ],
   "source": [
    "print(expected_parcel_pressure)\n",
    "print(expected_parcel_temp)\n",
    "print(expected_parcel_dewpoint)"
   ]
  },
  {
   "cell_type": "markdown",
   "metadata": {},
   "source": [
    "## Append outputs from mixed_parcel to truncated arrays"
   ]
  },
  {
   "cell_type": "code",
   "execution_count": 12,
   "metadata": {},
   "outputs": [],
   "source": [
    "start_p = p[0]\n",
    "# Remove values below top of mixed layer and add in the mixed layer values\n",
    "pressure_prof = p[p < (start_p - depth_mp)]\n",
    "temp_prof = T[p < (start_p - depth_mp)]\n",
    "dew_prof = Td[p < (start_p - depth_mp)]\n",
    "pressure_prof_mp = metpy.units.concatenate([expected_parcel_pressure, pressure_prof])\n",
    "temp_prof_mp = metpy.units.concatenate([expected_parcel_temp, temp_prof])\n",
    "dew_prof_mp = metpy.units.concatenate([expected_parcel_dewpoint, dew_prof])\n"
   ]
  },
  {
   "cell_type": "code",
   "execution_count": 13,
   "metadata": {},
   "outputs": [],
   "source": [
    "# Remove values below top of mixed layer and add in the mixed layer values\n",
    "pressure_prof = p_array[p_array < (p_array[0] - depth)]\n",
    "temp_prof = T_array[p_array < (p_array[0] - depth)]\n",
    "dew_prof = Td_array[p_array < (p_array[0] - depth)]\n",
    "pressure_prof = np.concatenate([np.atleast_1d(p_array[0]), pressure_prof])\n",
    "temp_prof = np.concatenate([np.atleast_1d(theta_back_to_temp - 273.15), temp_prof])\n",
    "dew_prof = np.concatenate([np.atleast_1d(vapor_pres_back_to_dewpoint), dew_prof])\n"
   ]
  },
  {
   "cell_type": "markdown",
   "metadata": {},
   "source": [
    "## parcel_profile_with_lcl"
   ]
  },
  {
   "cell_type": "markdown",
   "metadata": {},
   "source": [
    "### Metpy:"
   ]
  },
  {
   "cell_type": "code",
   "execution_count": 14,
   "metadata": {},
   "outputs": [
    {
     "data": {
      "text/html": [
       "<table><tbody><tr><th>Magnitude</th><td style='text-align:left;'><pre>[30.017963177354034 20.9 18.4 15.9 13.1 10.1 6.7 3.1 -0.5 -4.5 -9.0 -14.8 -21.5 -29.7 -40.0 -52.4 -59.2 -66.5 -74.1 -78.5 -76.0 -71.6 -66.7 -61.3 -56.3 -51.7 -50.7 -47.5]</pre></td></tr><tr><th>Units</th><td style='text-align:left;'>degree_Celsius</td></tr></tbody></table>"
      ],
      "text/latex": [
       "$\\begin{pmatrix} &  &  &  &  &  &  &  &  &  &  &  &  &  &  &  &  &  &  &  &  &  &  &  &  &  &  & \\end{pmatrix}\\ \\mathrm{degree\\_Celsius}$"
      ],
      "text/plain": [
       "<Quantity([ 30.01796318  20.9         18.4         15.9         13.1\n",
       "  10.1          6.7          3.1         -0.5         -4.5\n",
       "  -9.         -14.8        -21.5        -29.7        -40.\n",
       " -52.4        -59.2        -66.5        -74.1        -78.5\n",
       " -76.         -71.6        -66.7        -61.3        -56.3\n",
       " -51.7        -50.7        -47.5       ], 'degree_Celsius')>"
      ]
     },
     "execution_count": 14,
     "metadata": {},
     "output_type": "execute_result"
    }
   ],
   "source": [
    "temp_prof_mp"
   ]
  },
  {
   "cell_type": "code",
   "execution_count": 15,
   "metadata": {},
   "outputs": [
    {
     "name": "stdout",
     "output_type": "stream",
     "text": [
      "[852.2779038467842 850.0 800.0 750.0 700.0 650.0 600.0 550.0 500.0 450.0 400.0 350.0 300.0 250.0 200.0 175.0 150.0 125.0 100.0 80.0 70.0 60.0 50.0 40.0 30.0 25.0 20.0] hectopascal 288.975249885237 kelvin\n",
      "temp_upper [288.975249885237 288.8771556652491 286.63455860650197 284.2002456235547 281.5375457747217 278.59863205450785 275.31986372934097 271.6147430262509 267.3633103953191 262.3965121588944 256.4753716364084 249.27086166014854 240.3665451455124 229.3133143497968 215.67473493183098 207.7092353100362 198.80834257354783 188.734751014561 177.08204579851522 166.14516860910948 159.92588765957808 153.0351360864167 145.26732675049576 136.29482269942747 125.54012629833461 119.16791491037053 111.80745110731084] kelvin\n",
      "p_wLCL:  [1008.0 900.0 852.2779038467842 850.0 800.0 750.0 700.0 650.0 600.0 550.0 500.0 450.0 400.0 350.0 300.0 250.0 200.0 175.0 150.0 125.0 100.0 80.0 70.0 60.0 50.0 40.0 30.0 25.0 20.0] hectopascal\n",
      "T_wLCL:  [30.017963177354034 20.9 18.513895192339206 18.4 15.9 13.1 10.1 6.7 3.1 -0.5 -4.5 -9.0 -14.8 -21.5 -29.7 -40.0 -52.4 -59.2 -66.5 -74.1 -78.5 -76.0 -71.6 -66.7 -61.3 -56.3 -51.7 -50.7 -47.5] degree_Celsius\n",
      "Td_wLCL:  [18.47490211625791 6.437991894252548 14.871551595792393 15.274108055687691 10.86234948599963 8.771845844701772 7.865467855509223 0.5856195832851085 -16.5911677519357 -9.1547750198647 -9.891846901617441 -14.568362285481669 -32.8228057895102 -51.22034175713543 -32.713202986095894 -42.60756356133248 -58.94529754133467 -69.53043376468338 -71.68764168493865 -75.91078288966105 -79.3049201724865 -79.69736432376448 -72.47347019170047 -73.28586401161789 -64.33833833153574 -70.57338464942532 -75.76767207009286 -51.233082130219486 -56.445496419926315] degree_Celsius\n",
      "prof_wLCL:  [303.167963177354 293.50872359538795 288.975249885237 288.8771556652491 286.63455860650197 284.2002456235547 281.5375457747217 278.59863205450785 275.31986372934097 271.6147430262509 267.3633103953191 262.3965121588944 256.4753716364084 249.27086166014854 240.3665451455124 229.3133143497968 215.67473493183098 207.7092353100362 198.80834257354783 188.734751014561 177.08204579851522 166.14516860910948 159.92588765957808 153.0351360864167 145.26732675049576 136.29482269942747 125.54012629833461 119.16791491037053 111.80745110731084] kelvin\n"
     ]
    }
   ],
   "source": [
    "p_wLCL, T_wLCL, Td_wLCL, prof_wLCL = metpy.calc.parcel_profile_with_lcl(pressure_prof_mp, temp_prof_mp, dew_prof_mp)\n",
    "print(\"p_wLCL: \", p_wLCL)\n",
    "print(\"T_wLCL: \", T_wLCL)\n",
    "print(\"Td_wLCL: \", Td_wLCL)\n",
    "print(\"prof_wLCL: \", prof_wLCL)"
   ]
  },
  {
   "cell_type": "markdown",
   "metadata": {},
   "source": [
    "### Rewritten test:"
   ]
  },
  {
   "cell_type": "markdown",
   "metadata": {},
   "source": [
    "#### lcl:"
   ]
  },
  {
   "cell_type": "code",
   "execution_count": 16,
   "metadata": {},
   "outputs": [
    {
     "data": {
      "text/plain": [
       "(<Quantity(852.277904, 'hectopascal')>,\n",
       " <Quantity(15.8252499, 'degree_Celsius')>)"
      ]
     },
     "execution_count": 16,
     "metadata": {},
     "output_type": "execute_result"
    }
   ],
   "source": [
    "metpy.calc.lcl(pressure_prof_mp[0], temp_prof_mp[0], dew_prof_mp[0])\n"
   ]
  },
  {
   "cell_type": "code",
   "execution_count": 17,
   "metadata": {},
   "outputs": [
    {
     "name": "stdout",
     "output_type": "stream",
     "text": [
      "1008.0 hectopascal\n",
      "30.017963177354034 degree_Celsius\n",
      "18.47490211625791 degree_Celsius\n",
      "1008.0\n",
      "30.017958708208937\n",
      "18.474902116257926\n"
     ]
    }
   ],
   "source": [
    "print(pressure_prof_mp[0])\n",
    "print(temp_prof_mp[0])\n",
    "print(dew_prof_mp[0])\n",
    "print(pressure_prof[0])\n",
    "print(temp_prof[0])\n",
    "print(dew_prof[0])"
   ]
  },
  {
   "cell_type": "code",
   "execution_count": 18,
   "metadata": {},
   "outputs": [
    {
     "name": "stdout",
     "output_type": "stream",
     "text": [
      "[852.27778167]\n",
      "[15.82524764]\n"
     ]
    }
   ],
   "source": [
    "#pressure needs to be in Pa, temperature and dewpoint needs to be in K\n",
    "\n",
    "pressure_prof_pa = pressure_prof*100\n",
    "temp_prof_k = temp_prof+273.15\n",
    "dew_prof_k = dew_prof+273.15\n",
    "def _lcl_iter(p, p0, w, t, nan_mask_list):\n",
    "    td = dewpoint(vapor_pressure(p/100, w)) + 273.15\n",
    "    p_new = (p0 * (td / t) ** (1. / kappa))\n",
    "    nan_mask_list[0] = nan_mask_list[0] | np.isnan(p_new)\n",
    "\n",
    "    return np.where(np.isnan(p_new), p, p_new)\n",
    "\n",
    "# Handle nans by creating a mask that gets set by our _lcl_iter function if it\n",
    "# ever encounters a nan, at which point pressure is set to p, stopping iteration.\n",
    "nan_mask_list = [False]  # Use a mutable list to store the mask\n",
    "es=saturation_vapor_pressure(dew_prof[0])\n",
    "w = mixing_ratio(es, pressure_prof[0])\n",
    "lcl_p = so.fixed_point(_lcl_iter, \n",
    "                       pressure_prof_pa[0], \n",
    "                       args=(pressure_prof_pa[0], \n",
    "                             w, \n",
    "                             temp_prof_k[0], \n",
    "                             nan_mask_list\n",
    "                             ),\n",
    "                        xtol=1e-5,\n",
    "                        maxiter=50)\n",
    "lcl_p = np.where(nan_mask_list[0], np.nan, lcl_p)\n",
    "\n",
    "# np.isclose needed if surface is LCL due to precision error with np.log in dewpoint.\n",
    "# Causes issues with parcel_profile_with_lcl if removed. Issue #1187\n",
    "lcl_p = np.atleast_1d(np.where(np.isclose(lcl_p, pressure_prof[0]), pressure_prof[0], lcl_p)/100)\n",
    "lcl_td = np.atleast_1d(dewpoint(vapor_pressure(lcl_p, w)))\n",
    "print(lcl_p)\n",
    "print(lcl_td)"
   ]
  },
  {
   "cell_type": "markdown",
   "metadata": {},
   "source": [
    "##### Test on 5d array"
   ]
  },
  {
   "cell_type": "code",
   "execution_count": 19,
   "metadata": {},
   "outputs": [],
   "source": [
    "data_5d_pa_k = data_5d.copy()\n",
    "data_5d_pa_k[:,:,:,:,0] = data_5d_pa_k[:,:,:,:,0]*100\n",
    "data_5d_pa_k[:,:,:,:,1] = data_5d_pa_k[:,:,:,:,1]+273.15\n",
    "data_5d_pa_k[:,:,:,:,2] = data_5d_pa_k[:,:,:,:,2]+273.15\n"
   ]
  },
  {
   "cell_type": "code",
   "execution_count": 20,
   "metadata": {},
   "outputs": [],
   "source": [
    "p_array_pa = data_5d_pa_k[:,:,:,:,0] \n",
    "T_array_k = data_5d_pa_k[:,:,:,:,1] \n",
    "Td_array_k = data_5d_pa_k[:,:,:,:,2] \n",
    "\n",
    "def vectorize_lcl(p, T, Td):\n",
    "    \"\"\"Vectorized LCL function based on metpy.calc.lcl. Needs the bottom layer but is dimension agnostic.\n",
    "       Pressure needs to be in Pa, temperature and dewpoint needs to be in K.\n",
    "       \"\"\"\n",
    "    def _lcl_iter(p, p0, w, t, nan_mask_list):\n",
    "        td = dewpoint(vapor_pressure(p/100, w)) + 273.15\n",
    "        p_new = (p0 * (td / t) ** (1. / kappa))\n",
    "        nan_mask_list[0] = nan_mask_list[0] | np.isnan(p_new)\n",
    "\n",
    "        return np.where(np.isnan(p_new), p, p_new)\n",
    "\n",
    "    # Handle nans by creating a mask that gets set by our _lcl_iter function if it\n",
    "    # ever encounters a nan, at which point pressure is set to p, stopping iteration.\n",
    "    nan_mask_list = [False]  # Use a mutable list to store the mask\n",
    "    es=saturation_vapor_pressure(Td-273.15)\n",
    "    w = mixing_ratio(es, p/100)\n",
    "    lcl_p = so.fixed_point(_lcl_iter, \n",
    "                        p, \n",
    "                        args=(p, \n",
    "                                w, \n",
    "                                T, \n",
    "                                nan_mask_list\n",
    "                                ),\n",
    "                            xtol=1e-5,\n",
    "                            maxiter=50)\n",
    "    lcl_p = np.where(nan_mask_list[0], np.nan, lcl_p)\n",
    "\n",
    "    # np.isclose needed if surface is LCL due to precision error with np.log in dewpoint.\n",
    "    # Causes issues with parcel_profile_with_lcl if removed. Issue #1187\n",
    "    lcl_p = np.where(np.isclose(lcl_p, p), p, lcl_p)/100\n",
    "    lcl_td = dewpoint(vapor_pressure(lcl_p, w))\n",
    "    return lcl_p, lcl_td\n",
    "\n",
    "lcl_p_vectorized, lcl_td_vectorized = vectorize_lcl(p_array_pa[:,:,:,0], T_array_k[:,:,:,0], Td_array_k[:,:,:,0])\n",
    "lcl_p_vectorized = np.atleast_1d(lcl_p_vectorized)"
   ]
  },
  {
   "cell_type": "markdown",
   "metadata": {},
   "source": [
    "#### rest of _parcel_profile_helper"
   ]
  },
  {
   "cell_type": "code",
   "execution_count": 21,
   "metadata": {},
   "outputs": [],
   "source": [
    "def moist_lapse(pressure, temperature):\n",
    "    def dt(p, t):\n",
    "        rs = saturation_mixing_ratio(p, t)\n",
    "        frac = (\n",
    "            (Rd * t + Lv * rs)\n",
    "            / (Cp_d + (\n",
    "                Lv * Lv * rs * epsilon\n",
    "                / (Rd * t**2)\n",
    "            ))\n",
    "        )\n",
    "        return frac / p\n",
    "\n",
    "    temperature = np.atleast_1d(temperature)\n",
    "    pressure = np.atleast_1d(pressure)\n",
    "    reference_pressure = pressure[0]\n",
    "\n",
    "    if np.isnan(reference_pressure) or np.all(np.isnan(temperature)):\n",
    "        return np.full((temperature.size, pressure.size), np.nan)\n",
    "\n",
    "    pres_decreasing = (pressure[0] > pressure[-1])\n",
    "    if pres_decreasing:\n",
    "        # Everything is easier if pressures are in increasing order\n",
    "        pressure = pressure[::-1]\n",
    "\n",
    "    # It would be preferable to use a regular solver like RK45, but as of scipy 1.8.0\n",
    "    # anything other than LSODA goes into an infinite loop when given NaNs for y0.\n",
    "    solver_args = {'fun': dt, 'y0': temperature,\n",
    "                   'method': 'LSODA', 'atol': 1e-7, 'rtol': 1.5e-8}\n",
    "\n",
    "    # Need to handle close points to avoid an error in the solver\n",
    "    close = np.isclose(pressure, reference_pressure)\n",
    "    if np.any(close):\n",
    "        ret = np.broadcast_to(temperature[:, np.newaxis], (temperature.size, np.sum(close)))\n",
    "    else:\n",
    "        ret = np.empty((temperature.size, 0), dtype=temperature.dtype)\n",
    "\n",
    "    # Do we have any points above the reference pressure\n",
    "    points_above = (pressure < reference_pressure) & ~close\n",
    "    if np.any(points_above):\n",
    "        # Integrate upward--need to flip so values are properly ordered from ref to min\n",
    "        press_side = pressure[points_above][::-1]\n",
    "\n",
    "        # Flip on exit so t values correspond to increasing pressure\n",
    "        result = si.solve_ivp(t_span=(reference_pressure, press_side[-1]),\n",
    "                              t_eval=press_side, **solver_args)\n",
    "        if result.success:\n",
    "            ret = np.concatenate((result.y[..., ::-1], ret), axis=-1)\n",
    "        else:\n",
    "            raise ValueError('ODE Integration failed. This is likely due to trying to '\n",
    "                             'calculate at too small values of pressure.')\n",
    "\n",
    "    # Do we have any points below the reference pressure\n",
    "    points_below = ~points_above & ~close\n",
    "    if np.any(points_below):\n",
    "        # Integrate downward\n",
    "        press_side = pressure[points_below]\n",
    "        result = si.solve_ivp(t_span=(reference_pressure, press_side[-1]),\n",
    "                              t_eval=press_side, **solver_args)\n",
    "        if result.success:\n",
    "            ret = np.concatenate((ret, result.y), axis=-1)\n",
    "        else:\n",
    "            raise ValueError('ODE Integration failed. This is likely due to trying to '\n",
    "                             'calculate at too small values of pressure.')\n",
    "\n",
    "    if pres_decreasing:\n",
    "        ret = ret[..., ::-1]\n",
    "\n",
    "    return ret.squeeze()"
   ]
  },
  {
   "cell_type": "code",
   "execution_count": 22,
   "metadata": {},
   "outputs": [
    {
     "name": "stdout",
     "output_type": "stream",
     "text": [
      "[852.27778167 850.         800.         750.         700.\n",
      " 650.         600.         550.         500.         450.\n",
      " 400.         350.         300.         250.         200.\n",
      " 175.         150.         125.         100.          80.\n",
      "  70.          60.          50.          40.          30.\n",
      "  25.          20.        ] 288.97524764465186\n",
      "[288.97524764 288.93579969 288.04500722 287.1026302  286.10191102\n",
      " 285.034625   283.89064214 282.6572779  281.31833655 279.85266157\n",
      " 278.23187285 276.41658274 274.34976131 271.94415228 269.05582969\n",
      " 267.35611991 265.4200338  263.16543877 260.45679986 257.8024633\n",
      " 256.23938381 254.45796511 252.3821944  249.88655816 246.73988839\n",
      " 244.78570661 242.43503747]\n",
      "[1008.  900.] [852.27778167] [850. 800. 750. 700. 650. 600. 550. 500. 450. 400. 350. 300. 250. 200.\n",
      " 175. 150. 125. 100.  80.  70.  60.  50.  40.  30.  25.  20.] [303.16795871 293.50872877] [15.82524764] [288.93579969 288.04500722 287.1026302  286.10191102 285.034625\n",
      " 283.89064214 282.6572779  281.31833655 279.85266157 278.23187285\n",
      " 276.41658274 274.34976131 271.94415228 269.05582969 267.35611991\n",
      " 265.4200338  263.16543877 260.45679986 257.8024633  256.23938381\n",
      " 254.45796511 252.3821944  249.88655816 246.73988839 244.78570661\n",
      " 242.43503747]\n"
     ]
    }
   ],
   "source": [
    "press_lower = np.concatenate((pressure_prof[pressure_prof >= lcl_p], np.atleast_1d(lcl_p)))\n",
    "temp_lower = dry_lapse(press_lower, temp_prof_k[0])\n",
    "# If the pressure profile doesn't make it to the lcl, we can stop here\n",
    "if np.isclose(np.nanmin(p_array), lcl_p):\n",
    "    print(press_lower[:-1], lcl_p, units.Quantity(np.array([]), press_lower.units),\n",
    "            temp_lower[:-1], lcl_td, units.Quantity(np.array([]), temp_lower.units))\n",
    "else:\n",
    "    # Establish profile above LCL\n",
    "    press_upper = np.concatenate((lcl_p, p_array[p_array < lcl_p]))\n",
    "\n",
    "    # Remove duplicate pressure values from remaining profile. Needed for solve_ivp in\n",
    "    # moist_lapse. unique will return remaining values sorted ascending.\n",
    "    unique, indices, counts = np.unique(press_upper, return_inverse=True, return_counts=True)\n",
    "\n",
    "    # Find moist pseudo-adiabatic profile starting at the LCL, reversing above sorting\n",
    "    print(unique[::-1], temp_lower[-1])\n",
    "    temp_upper = moist_lapse(unique[::-1], temp_lower[-1])\n",
    "    print(temp_upper)\n",
    "    temp_upper = temp_upper[::-1][indices]\n",
    "\n",
    "    # # Return profile pieces\n",
    "    print(press_lower[:-1], lcl_p, press_upper[1:],temp_lower[:-1], lcl_td, temp_upper[1:])"
   ]
  },
  {
   "cell_type": "markdown",
   "metadata": {},
   "source": [
    "### Integration:"
   ]
  },
  {
   "cell_type": "code",
   "execution_count": 23,
   "metadata": {},
   "outputs": [
    {
     "name": "stdout",
     "output_type": "stream",
     "text": [
      "Shape after truncation: (2, 180, 360, 22, 3)\n",
      "Pressure levels kept: [1008. 1000.  950.  900.  850.  800.  750.  700.  650.  600.  550.  500.\n",
      "  450.  400.  350.  300.  250.  200.  175.  150.  125.  100.]\n"
     ]
    },
    {
     "data": {
      "text/plain": [
       "(2, 180, 360, 22)"
      ]
     },
     "execution_count": 23,
     "metadata": {},
     "output_type": "execute_result"
    }
   ],
   "source": [
    "# Truncate the 4th dimension in data_5d where pressure is less than 50 hPa\n",
    "# The pressure values are stored in data_5d[:,:,:,:,0]\n",
    "\n",
    "# Find the index where pressure becomes less than 50 hPa\n",
    "# Since pressure decreases with height, we need to find the first index where p < 50\n",
    "threshold_index = np.where(p_array < 100)[0][0]\n",
    "\n",
    "# Truncate the 4th dimension of data_5d to keep only levels where pressure >= 50 hPa\n",
    "data_5d = data_5d[:,:,:,:threshold_index,:]\n",
    "\n",
    "# Print the new shape to confirm\n",
    "print(f\"Shape after truncation: {data_5d.shape}\")\n",
    "print(f\"Pressure levels kept: {p_array[:threshold_index]}\")\n",
    "\n",
    "np.trapezoid(data_5d,axis=4).shape\n"
   ]
  },
  {
   "cell_type": "code",
   "execution_count": null,
   "metadata": {},
   "outputs": [],
   "source": []
  },
  {
   "cell_type": "markdown",
   "metadata": {},
   "source": [
    "# Final:"
   ]
  },
  {
   "cell_type": "code",
   "execution_count": 24,
   "metadata": {},
   "outputs": [
    {
     "name": "stdout",
     "output_type": "stream",
     "text": [
      "[900.6037205824425 900.0 850.0 800.0 750.0 700.0 650.0 600.0 550.0 500.0 450.0 400.0 350.0 300.0 250.0 200.0 175.0 150.0 125.0 100.0 80.0 70.0 60.0 50.0 40.0 30.0 25.0 20.0] hectopascal 293.02922746121556 kelvin\n",
      "temp_upper [293.02922746121556 293.00589484213793 291.00422762193216 288.85100636565124 286.52033059263204 283.97913428290104 281.1844063434547 278.07894493023554 274.5848566984259 270.5932862546365 265.9481338187206 260.42088683848476 253.6758792775867 245.2392400936672 234.52082043863217 220.9223365515545 212.85152462162523 203.7749615726271 193.46771152266598 181.52807471969018 170.31749983738132 163.9421382295467 156.8783693763426 148.91548866559205 139.71765314241844 128.69286750859752 122.16062605523213 114.61531757231914] kelvin\n",
      "p [1008.0 950.0 900.6037205824425 900.0 850.0 800.0 750.0 700.0 650.0 600.0 550.0 500.0 450.0 400.0 350.0 300.0 250.0 200.0 175.0 150.0 125.0 100.0 80.0 70.0 60.0 50.0 40.0 30.0 25.0 20.0] hectopascal\n",
      "t [29.464702606075207 25.5 20.95554229358471 20.9 18.4 15.9 13.1 10.1 6.7 3.1 -0.5 -4.5 -9.0 -14.8 -21.5 -29.7 -40.0 -52.4 -59.2 -66.5 -74.1 -78.5 -76.0 -71.6 -66.7 -61.3 -56.3 -51.7 -50.7 -47.5] degree_Celsius\n",
      "td [21.708150075418814 16.089850194292808 6.5545324045436075 6.437991894252548 15.274108055687691 10.86234948599963 8.771845844701772 7.865467855509223 0.5856195832851085 -16.5911677519357 -9.1547750198647 -9.891846901617441 -14.568362285481669 -32.8228057895102 -51.22034175713543 -32.713202986095894 -42.60756356133248 -58.94529754133467 -69.53043376468338 -71.68764168493865 -75.91078288966105 -79.3049201724865 -79.69736432376448 -72.47347019170047 -73.28586401161789 -64.33833833153574 -70.57338464942532 -75.76767207009286 -51.233082130219486 -56.445496419926315] degree_Celsius\n",
      "ml_profile [302.6147026060752 297.53401092867904 293.02922746121556 293.00589484213793 291.00422762193216 288.85100636565124 286.52033059263204 283.97913428290104 281.1844063434547 278.07894493023554 274.5848566984259 270.5932862546365 265.9481338187206 260.42088683848476 253.6758792775867 245.2392400936672 234.52082043863217 220.9223365515545 212.85152462162523 203.7749615726271 193.46771152266598 181.52807471969018 170.31749983738132 163.9421382295467 156.8783693763426 148.91548866559205 139.71765314241844 128.69286750859752 122.16062605523213 114.61531757231914] kelvin\n"
     ]
    },
    {
     "data": {
      "text/plain": [
       "(<Quantity(711.239032, 'joule / kilogram')>,\n",
       " <Quantity(-5.48053989, 'joule / kilogram')>)"
      ]
     },
     "execution_count": 24,
     "metadata": {},
     "output_type": "execute_result"
    }
   ],
   "source": [
    "mixed_layer_cape_cin(p,T,Td,depth=50*metpy.units.units.hPa)"
   ]
  }
 ],
 "metadata": {
  "kernelspec": {
   "display_name": ".venv",
   "language": "python",
   "name": "python3"
  },
  "language_info": {
   "codemirror_mode": {
    "name": "ipython",
    "version": 3
   },
   "file_extension": ".py",
   "mimetype": "text/x-python",
   "name": "python",
   "nbconvert_exporter": "python",
   "pygments_lexer": "ipython3",
   "version": "3.11.11"
  }
 },
 "nbformat": 4,
 "nbformat_minor": 2
}
